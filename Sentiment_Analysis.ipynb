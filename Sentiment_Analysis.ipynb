{
  "nbformat": 4,
  "nbformat_minor": 0,
  "metadata": {
    "colab": {
      "name": "Sentiment Analysis.ipynb",
      "provenance": [],
      "collapsed_sections": []
    },
    "kernelspec": {
      "name": "python3",
      "display_name": "Python 3"
    },
    "language_info": {
      "name": "python"
    },
    "accelerator": "GPU"
  },
  "cells": [
    {
      "cell_type": "code",
      "metadata": {
        "id": "F206Imupd2tA",
        "colab": {
          "base_uri": "https://localhost:8080/"
        },
        "outputId": "11e02c78-5239-476b-9a91-733fb62f3daf"
      },
      "source": [
        "import pandas as pd\n",
        "df = pd.read_csv('/content/Restaurant reviews.csv')\n",
        "df.drop(['Restaurant','Reviewer','Metadata','Time','Pictures'],inplace=True,axis=1)\n",
        "df.head()\n",
        "df.info()"
      ],
      "execution_count": 29,
      "outputs": [
        {
          "output_type": "stream",
          "text": [
            "<class 'pandas.core.frame.DataFrame'>\n",
            "RangeIndex: 10000 entries, 0 to 9999\n",
            "Data columns (total 2 columns):\n",
            " #   Column  Non-Null Count  Dtype \n",
            "---  ------  --------------  ----- \n",
            " 0   Review  9955 non-null   object\n",
            " 1   Rating  9962 non-null   object\n",
            "dtypes: object(2)\n",
            "memory usage: 156.4+ KB\n"
          ],
          "name": "stdout"
        }
      ]
    },
    {
      "cell_type": "code",
      "metadata": {
        "id": "2EKwZsAStkY3"
      },
      "source": [
        "df.dropna(inplace=True)"
      ],
      "execution_count": 30,
      "outputs": []
    },
    {
      "cell_type": "code",
      "metadata": {
        "colab": {
          "base_uri": "https://localhost:8080/"
        },
        "id": "KlhNZdiNxcBN",
        "outputId": "bf7c4fcb-2531-4786-cd0b-42e9a96d2940"
      },
      "source": [
        "df=df[df.Rating!='Like']\n",
        "df.reset_index(inplace=True,drop=True)\n",
        "df.head()\n",
        "df.info()"
      ],
      "execution_count": 31,
      "outputs": [
        {
          "output_type": "stream",
          "text": [
            "<class 'pandas.core.frame.DataFrame'>\n",
            "RangeIndex: 9954 entries, 0 to 9953\n",
            "Data columns (total 2 columns):\n",
            " #   Column  Non-Null Count  Dtype \n",
            "---  ------  --------------  ----- \n",
            " 0   Review  9954 non-null   object\n",
            " 1   Rating  9954 non-null   object\n",
            "dtypes: object(2)\n",
            "memory usage: 155.7+ KB\n"
          ],
          "name": "stdout"
        }
      ]
    },
    {
      "cell_type": "code",
      "metadata": {
        "id": "9_hfbMW2y0wc"
      },
      "source": [
        "def fun(x):\n",
        "  x=float(x)\n",
        "  if(x<=2):\n",
        "    return -1\n",
        "  elif x==3:\n",
        "    return 0\n",
        "  else:\n",
        "    return 1\n",
        "df['Rating']=df.Rating.apply(lambda x: fun(x))"
      ],
      "execution_count": 32,
      "outputs": []
    },
    {
      "cell_type": "code",
      "metadata": {
        "colab": {
          "base_uri": "https://localhost:8080/",
          "height": 195
        },
        "id": "ziOxUMQoy45j",
        "outputId": "fdf21842-57b2-488f-c495-6ceef1586532"
      },
      "source": [
        "df.tail()"
      ],
      "execution_count": 33,
      "outputs": [
        {
          "output_type": "execute_result",
          "data": {
            "text/html": [
              "<div>\n",
              "<style scoped>\n",
              "    .dataframe tbody tr th:only-of-type {\n",
              "        vertical-align: middle;\n",
              "    }\n",
              "\n",
              "    .dataframe tbody tr th {\n",
              "        vertical-align: top;\n",
              "    }\n",
              "\n",
              "    .dataframe thead th {\n",
              "        text-align: right;\n",
              "    }\n",
              "</style>\n",
              "<table border=\"1\" class=\"dataframe\">\n",
              "  <thead>\n",
              "    <tr style=\"text-align: right;\">\n",
              "      <th></th>\n",
              "      <th>Review</th>\n",
              "      <th>Rating</th>\n",
              "    </tr>\n",
              "  </thead>\n",
              "  <tbody>\n",
              "    <tr>\n",
              "      <th>9949</th>\n",
              "      <td>Madhumathi Mahajan Well to start with nice cou...</td>\n",
              "      <td>0</td>\n",
              "    </tr>\n",
              "    <tr>\n",
              "      <th>9950</th>\n",
              "      <td>This place has never disappointed us.. The foo...</td>\n",
              "      <td>1</td>\n",
              "    </tr>\n",
              "    <tr>\n",
              "      <th>9951</th>\n",
              "      <td>Bad rating is mainly because of \"Chicken Bone ...</td>\n",
              "      <td>-1</td>\n",
              "    </tr>\n",
              "    <tr>\n",
              "      <th>9952</th>\n",
              "      <td>I personally love and prefer Chinese Food. Had...</td>\n",
              "      <td>1</td>\n",
              "    </tr>\n",
              "    <tr>\n",
              "      <th>9953</th>\n",
              "      <td>Checked in here to try some delicious chinese ...</td>\n",
              "      <td>1</td>\n",
              "    </tr>\n",
              "  </tbody>\n",
              "</table>\n",
              "</div>"
            ],
            "text/plain": [
              "                                                 Review  Rating\n",
              "9949  Madhumathi Mahajan Well to start with nice cou...       0\n",
              "9950  This place has never disappointed us.. The foo...       1\n",
              "9951  Bad rating is mainly because of \"Chicken Bone ...      -1\n",
              "9952  I personally love and prefer Chinese Food. Had...       1\n",
              "9953  Checked in here to try some delicious chinese ...       1"
            ]
          },
          "metadata": {
            "tags": []
          },
          "execution_count": 33
        }
      ]
    },
    {
      "cell_type": "code",
      "metadata": {
        "id": "3M6r0VWihJiR",
        "colab": {
          "base_uri": "https://localhost:8080/",
          "height": 346
        },
        "outputId": "1f184991-d604-4471-d9e3-261ac444f0e5"
      },
      "source": [
        "y = df['Rating']\n",
        "x = list(df['Review'])\n",
        "# print(x)\n",
        "type(x)\n",
        "df.info()\n",
        "df.tail()"
      ],
      "execution_count": 34,
      "outputs": [
        {
          "output_type": "stream",
          "text": [
            "<class 'pandas.core.frame.DataFrame'>\n",
            "RangeIndex: 9954 entries, 0 to 9953\n",
            "Data columns (total 2 columns):\n",
            " #   Column  Non-Null Count  Dtype \n",
            "---  ------  --------------  ----- \n",
            " 0   Review  9954 non-null   object\n",
            " 1   Rating  9954 non-null   int64 \n",
            "dtypes: int64(1), object(1)\n",
            "memory usage: 155.7+ KB\n"
          ],
          "name": "stdout"
        },
        {
          "output_type": "execute_result",
          "data": {
            "text/html": [
              "<div>\n",
              "<style scoped>\n",
              "    .dataframe tbody tr th:only-of-type {\n",
              "        vertical-align: middle;\n",
              "    }\n",
              "\n",
              "    .dataframe tbody tr th {\n",
              "        vertical-align: top;\n",
              "    }\n",
              "\n",
              "    .dataframe thead th {\n",
              "        text-align: right;\n",
              "    }\n",
              "</style>\n",
              "<table border=\"1\" class=\"dataframe\">\n",
              "  <thead>\n",
              "    <tr style=\"text-align: right;\">\n",
              "      <th></th>\n",
              "      <th>Review</th>\n",
              "      <th>Rating</th>\n",
              "    </tr>\n",
              "  </thead>\n",
              "  <tbody>\n",
              "    <tr>\n",
              "      <th>9949</th>\n",
              "      <td>Madhumathi Mahajan Well to start with nice cou...</td>\n",
              "      <td>0</td>\n",
              "    </tr>\n",
              "    <tr>\n",
              "      <th>9950</th>\n",
              "      <td>This place has never disappointed us.. The foo...</td>\n",
              "      <td>1</td>\n",
              "    </tr>\n",
              "    <tr>\n",
              "      <th>9951</th>\n",
              "      <td>Bad rating is mainly because of \"Chicken Bone ...</td>\n",
              "      <td>-1</td>\n",
              "    </tr>\n",
              "    <tr>\n",
              "      <th>9952</th>\n",
              "      <td>I personally love and prefer Chinese Food. Had...</td>\n",
              "      <td>1</td>\n",
              "    </tr>\n",
              "    <tr>\n",
              "      <th>9953</th>\n",
              "      <td>Checked in here to try some delicious chinese ...</td>\n",
              "      <td>1</td>\n",
              "    </tr>\n",
              "  </tbody>\n",
              "</table>\n",
              "</div>"
            ],
            "text/plain": [
              "                                                 Review  Rating\n",
              "9949  Madhumathi Mahajan Well to start with nice cou...       0\n",
              "9950  This place has never disappointed us.. The foo...       1\n",
              "9951  Bad rating is mainly because of \"Chicken Bone ...      -1\n",
              "9952  I personally love and prefer Chinese Food. Had...       1\n",
              "9953  Checked in here to try some delicious chinese ...       1"
            ]
          },
          "metadata": {
            "tags": []
          },
          "execution_count": 34
        }
      ]
    },
    {
      "cell_type": "code",
      "metadata": {
        "id": "s3Xan4Dah4B8",
        "colab": {
          "base_uri": "https://localhost:8080/"
        },
        "outputId": "a69c37df-7624-405b-e94f-ccf80dd2b2ee"
      },
      "source": [
        "corpus=[]\n",
        "alpha_corpus=[]\n",
        "for i in range(len(df)):\n",
        "   corpus.append(' '.join([word.lower() for word in str(df['Review'][i]).split()]))\n",
        "for i in range(len(df)):\n",
        "   alpha_corpus.append(' '.join([word for word in corpus[i].split() if word.isalpha()]))\n",
        "alpha_corpus[:5]"
      ],
      "execution_count": 35,
      "outputs": [
        {
          "output_type": "execute_result",
          "data": {
            "text/plain": [
              "['the ambience was food was quite good had saturday lunch which was cost effective good place for a sate one can also chill with friends and or waiter soumen das was really courteous and',\n",
              " 'ambience is too good for a pleasant service is very food is over all a good soumen das kudos to the service',\n",
              " 'a must great food great thnx for the service by pradeep and my personal recommendation is penne alfredo also the music in the background is',\n",
              " 'soumen das and arun was a great only because of their behavior and and good food off i would like to visit this place',\n",
              " 'food is ordered kodi drumsticks and basket mutton all are thanks to he served we enjoyed ambience is also very']"
            ]
          },
          "metadata": {
            "tags": []
          },
          "execution_count": 35
        }
      ]
    },
    {
      "cell_type": "code",
      "metadata": {
        "colab": {
          "base_uri": "https://localhost:8080/"
        },
        "id": "puSRyJiaowL-",
        "outputId": "76628d3b-71e1-479e-b388-bdb27447b417"
      },
      "source": [
        "import nltk\n",
        "nltk.download('stopwords')\n",
        "from nltk.corpus import stopwords\n",
        "removed_stop=[]\n",
        "for i in range(len(alpha_corpus)):\n",
        "   removed_stop.append(' '.join([word for word in alpha_corpus[i].split() if word not in stopwords.words('english')]))\n",
        "removed_stop[:5]"
      ],
      "execution_count": 36,
      "outputs": [
        {
          "output_type": "stream",
          "text": [
            "[nltk_data] Downloading package stopwords to /root/nltk_data...\n",
            "[nltk_data]   Package stopwords is already up-to-date!\n"
          ],
          "name": "stdout"
        },
        {
          "output_type": "execute_result",
          "data": {
            "text/plain": [
              "['ambience food quite good saturday lunch cost effective good place sate one also chill friends waiter soumen das really courteous',\n",
              " 'ambience good pleasant service food good soumen das kudos service',\n",
              " 'must great food great thnx service pradeep personal recommendation penne alfredo also music background',\n",
              " 'soumen das arun great behavior good food would like visit place',\n",
              " 'food ordered kodi drumsticks basket mutton thanks served enjoyed ambience also']"
            ]
          },
          "metadata": {
            "tags": []
          },
          "execution_count": 36
        }
      ]
    },
    {
      "cell_type": "code",
      "metadata": {
        "colab": {
          "base_uri": "https://localhost:8080/"
        },
        "id": "aOX8Y0e4pYvk",
        "outputId": "66e14aeb-2848-445f-bff1-a1c322e61453"
      },
      "source": [
        "Stemed_corpus=[]\n",
        "from nltk.stem import PorterStemmer\n",
        "ps=PorterStemmer()\n",
        "for i in range(len(removed_stop)):\n",
        "  Stemed_corpus.append(' '.join([ps.stem(word) for word in removed_stop[i].split()]))\n",
        "Stemed_corpus[:5]"
      ],
      "execution_count": 37,
      "outputs": [
        {
          "output_type": "execute_result",
          "data": {
            "text/plain": [
              "['ambienc food quit good saturday lunch cost effect good place sate one also chill friend waiter soumen da realli courteou',\n",
              " 'ambienc good pleasant servic food good soumen da kudo servic',\n",
              " 'must great food great thnx servic pradeep person recommend penn alfredo also music background',\n",
              " 'soumen da arun great behavior good food would like visit place',\n",
              " 'food order kodi drumstick basket mutton thank serv enjoy ambienc also']"
            ]
          },
          "metadata": {
            "tags": []
          },
          "execution_count": 37
        }
      ]
    },
    {
      "cell_type": "code",
      "metadata": {
        "id": "-pajtz2jp2lz"
      },
      "source": [
        "from sklearn.feature_extraction.text import CountVectorizer\n",
        "cv=CountVectorizer(ngram_range=(1,1))\n",
        "X=cv.fit_transform(Stemed_corpus).toarray()"
      ],
      "execution_count": 38,
      "outputs": []
    },
    {
      "cell_type": "code",
      "metadata": {
        "id": "ma52DqoKrYtJ"
      },
      "source": [
        "t=cv.get_feature_names()"
      ],
      "execution_count": 39,
      "outputs": []
    },
    {
      "cell_type": "code",
      "metadata": {
        "colab": {
          "base_uri": "https://localhost:8080/"
        },
        "id": "Bktyptovrd1m",
        "outputId": "ab2e973e-3aff-42bb-fb12-cc26b938c099"
      },
      "source": [
        "X.shape"
      ],
      "execution_count": 40,
      "outputs": [
        {
          "output_type": "execute_result",
          "data": {
            "text/plain": [
              "(9954, 9414)"
            ]
          },
          "metadata": {
            "tags": []
          },
          "execution_count": 40
        }
      ]
    },
    {
      "cell_type": "code",
      "metadata": {
        "colab": {
          "base_uri": "https://localhost:8080/"
        },
        "id": "WbPyVaxtr7Lm",
        "outputId": "e985b2a0-dcff-4f1a-c0fd-90ce58a1a37e"
      },
      "source": [
        "y.shape"
      ],
      "execution_count": 41,
      "outputs": [
        {
          "output_type": "execute_result",
          "data": {
            "text/plain": [
              "(9954,)"
            ]
          },
          "metadata": {
            "tags": []
          },
          "execution_count": 41
        }
      ]
    },
    {
      "cell_type": "code",
      "metadata": {
        "id": "o72V6eFPr9KW"
      },
      "source": [
        "from sklearn.model_selection import train_test_split\n",
        "X_train,X_test,Y_train,Y_test=train_test_split(X,y,test_size=0.30)"
      ],
      "execution_count": 42,
      "outputs": []
    },
    {
      "cell_type": "code",
      "metadata": {
        "colab": {
          "base_uri": "https://localhost:8080/",
          "height": 244
        },
        "id": "bsKU1iNvsCMl",
        "outputId": "becdfecf-1d28-4804-d66e-b875b2b2dba8"
      },
      "source": [
        "import pandas as pd\n",
        "count_df=pd.DataFrame(X_train,columns=cv.get_feature_names())\n",
        "count_df.head()"
      ],
      "execution_count": 43,
      "outputs": [
        {
          "output_type": "execute_result",
          "data": {
            "text/html": [
              "<div>\n",
              "<style scoped>\n",
              "    .dataframe tbody tr th:only-of-type {\n",
              "        vertical-align: middle;\n",
              "    }\n",
              "\n",
              "    .dataframe tbody tr th {\n",
              "        vertical-align: top;\n",
              "    }\n",
              "\n",
              "    .dataframe thead th {\n",
              "        text-align: right;\n",
              "    }\n",
              "</style>\n",
              "<table border=\"1\" class=\"dataframe\">\n",
              "  <thead>\n",
              "    <tr style=\"text-align: right;\">\n",
              "      <th></th>\n",
              "      <th>aa</th>\n",
              "      <th>aaamsutra</th>\n",
              "      <th>aachar</th>\n",
              "      <th>aachari</th>\n",
              "      <th>aalishaan</th>\n",
              "      <th>aalo</th>\n",
              "      <th>aaloo</th>\n",
              "      <th>aalu</th>\n",
              "      <th>aam</th>\n",
              "      <th>aamra</th>\n",
              "      <th>aap</th>\n",
              "      <th>aar</th>\n",
              "      <th>aararot</th>\n",
              "      <th>aata</th>\n",
              "      <th>aati</th>\n",
              "      <th>aavula</th>\n",
              "      <th>aawww</th>\n",
              "      <th>aaya</th>\n",
              "      <th>ab</th>\n",
              "      <th>aback</th>\n",
              "      <th>abd</th>\n",
              "      <th>abdul</th>\n",
              "      <th>abdur</th>\n",
              "      <th>abhay</th>\n",
              "      <th>abhinav</th>\n",
              "      <th>abhisek</th>\n",
              "      <th>abhishek</th>\n",
              "      <th>abhiv</th>\n",
              "      <th>abhivir</th>\n",
              "      <th>abid</th>\n",
              "      <th>abil</th>\n",
              "      <th>abl</th>\n",
              "      <th>abli</th>\n",
              "      <th>abmianc</th>\n",
              "      <th>abot</th>\n",
              "      <th>abroad</th>\n",
              "      <th>abruptli</th>\n",
              "      <th>absenc</th>\n",
              "      <th>absent</th>\n",
              "      <th>absolut</th>\n",
              "      <th>...</th>\n",
              "      <th>yummmmmm</th>\n",
              "      <th>yummmmmmmmmmmmmmmmi</th>\n",
              "      <th>yummmmmyyyyyyyyyyyyyyyyyyyyyy</th>\n",
              "      <th>yummyy</th>\n",
              "      <th>yup</th>\n",
              "      <th>yyt</th>\n",
              "      <th>zaedan</th>\n",
              "      <th>zaffrani</th>\n",
              "      <th>zaffron</th>\n",
              "      <th>zafrani</th>\n",
              "      <th>zain</th>\n",
              "      <th>zakheedar</th>\n",
              "      <th>zakir</th>\n",
              "      <th>zara</th>\n",
              "      <th>zaroorat</th>\n",
              "      <th>zeera</th>\n",
              "      <th>zega</th>\n",
              "      <th>zen</th>\n",
              "      <th>zera</th>\n",
              "      <th>zero</th>\n",
              "      <th>zest</th>\n",
              "      <th>zesti</th>\n",
              "      <th>zillion</th>\n",
              "      <th>zing</th>\n",
              "      <th>zinger</th>\n",
              "      <th>zomato</th>\n",
              "      <th>zomatoand</th>\n",
              "      <th>zomatoo</th>\n",
              "      <th>zomatto</th>\n",
              "      <th>zombi</th>\n",
              "      <th>zomo</th>\n",
              "      <th>zomoto</th>\n",
              "      <th>zomtato</th>\n",
              "      <th>zomto</th>\n",
              "      <th>zone</th>\n",
              "      <th>zoomato</th>\n",
              "      <th>zucchini</th>\n",
              "      <th>zyada</th>\n",
              "      <th>ànd</th>\n",
              "      <th>éclat</th>\n",
              "    </tr>\n",
              "  </thead>\n",
              "  <tbody>\n",
              "    <tr>\n",
              "      <th>0</th>\n",
              "      <td>0</td>\n",
              "      <td>0</td>\n",
              "      <td>0</td>\n",
              "      <td>0</td>\n",
              "      <td>0</td>\n",
              "      <td>0</td>\n",
              "      <td>0</td>\n",
              "      <td>0</td>\n",
              "      <td>0</td>\n",
              "      <td>0</td>\n",
              "      <td>0</td>\n",
              "      <td>0</td>\n",
              "      <td>0</td>\n",
              "      <td>0</td>\n",
              "      <td>0</td>\n",
              "      <td>0</td>\n",
              "      <td>0</td>\n",
              "      <td>0</td>\n",
              "      <td>0</td>\n",
              "      <td>0</td>\n",
              "      <td>0</td>\n",
              "      <td>0</td>\n",
              "      <td>0</td>\n",
              "      <td>0</td>\n",
              "      <td>0</td>\n",
              "      <td>0</td>\n",
              "      <td>0</td>\n",
              "      <td>0</td>\n",
              "      <td>0</td>\n",
              "      <td>0</td>\n",
              "      <td>0</td>\n",
              "      <td>0</td>\n",
              "      <td>0</td>\n",
              "      <td>0</td>\n",
              "      <td>0</td>\n",
              "      <td>0</td>\n",
              "      <td>0</td>\n",
              "      <td>0</td>\n",
              "      <td>0</td>\n",
              "      <td>0</td>\n",
              "      <td>...</td>\n",
              "      <td>0</td>\n",
              "      <td>0</td>\n",
              "      <td>0</td>\n",
              "      <td>0</td>\n",
              "      <td>0</td>\n",
              "      <td>0</td>\n",
              "      <td>0</td>\n",
              "      <td>0</td>\n",
              "      <td>0</td>\n",
              "      <td>0</td>\n",
              "      <td>0</td>\n",
              "      <td>0</td>\n",
              "      <td>0</td>\n",
              "      <td>0</td>\n",
              "      <td>0</td>\n",
              "      <td>0</td>\n",
              "      <td>0</td>\n",
              "      <td>0</td>\n",
              "      <td>0</td>\n",
              "      <td>0</td>\n",
              "      <td>0</td>\n",
              "      <td>0</td>\n",
              "      <td>0</td>\n",
              "      <td>0</td>\n",
              "      <td>0</td>\n",
              "      <td>0</td>\n",
              "      <td>0</td>\n",
              "      <td>0</td>\n",
              "      <td>0</td>\n",
              "      <td>0</td>\n",
              "      <td>0</td>\n",
              "      <td>0</td>\n",
              "      <td>0</td>\n",
              "      <td>0</td>\n",
              "      <td>0</td>\n",
              "      <td>0</td>\n",
              "      <td>0</td>\n",
              "      <td>0</td>\n",
              "      <td>0</td>\n",
              "      <td>0</td>\n",
              "    </tr>\n",
              "    <tr>\n",
              "      <th>1</th>\n",
              "      <td>0</td>\n",
              "      <td>0</td>\n",
              "      <td>0</td>\n",
              "      <td>0</td>\n",
              "      <td>0</td>\n",
              "      <td>0</td>\n",
              "      <td>0</td>\n",
              "      <td>0</td>\n",
              "      <td>0</td>\n",
              "      <td>0</td>\n",
              "      <td>0</td>\n",
              "      <td>0</td>\n",
              "      <td>0</td>\n",
              "      <td>0</td>\n",
              "      <td>0</td>\n",
              "      <td>0</td>\n",
              "      <td>0</td>\n",
              "      <td>0</td>\n",
              "      <td>0</td>\n",
              "      <td>0</td>\n",
              "      <td>0</td>\n",
              "      <td>0</td>\n",
              "      <td>0</td>\n",
              "      <td>0</td>\n",
              "      <td>0</td>\n",
              "      <td>0</td>\n",
              "      <td>0</td>\n",
              "      <td>0</td>\n",
              "      <td>0</td>\n",
              "      <td>0</td>\n",
              "      <td>0</td>\n",
              "      <td>0</td>\n",
              "      <td>0</td>\n",
              "      <td>0</td>\n",
              "      <td>0</td>\n",
              "      <td>0</td>\n",
              "      <td>0</td>\n",
              "      <td>0</td>\n",
              "      <td>0</td>\n",
              "      <td>0</td>\n",
              "      <td>...</td>\n",
              "      <td>0</td>\n",
              "      <td>0</td>\n",
              "      <td>0</td>\n",
              "      <td>0</td>\n",
              "      <td>0</td>\n",
              "      <td>0</td>\n",
              "      <td>0</td>\n",
              "      <td>0</td>\n",
              "      <td>0</td>\n",
              "      <td>0</td>\n",
              "      <td>0</td>\n",
              "      <td>0</td>\n",
              "      <td>0</td>\n",
              "      <td>0</td>\n",
              "      <td>0</td>\n",
              "      <td>0</td>\n",
              "      <td>0</td>\n",
              "      <td>0</td>\n",
              "      <td>0</td>\n",
              "      <td>0</td>\n",
              "      <td>0</td>\n",
              "      <td>0</td>\n",
              "      <td>0</td>\n",
              "      <td>0</td>\n",
              "      <td>0</td>\n",
              "      <td>0</td>\n",
              "      <td>0</td>\n",
              "      <td>0</td>\n",
              "      <td>0</td>\n",
              "      <td>0</td>\n",
              "      <td>0</td>\n",
              "      <td>0</td>\n",
              "      <td>0</td>\n",
              "      <td>0</td>\n",
              "      <td>0</td>\n",
              "      <td>0</td>\n",
              "      <td>0</td>\n",
              "      <td>0</td>\n",
              "      <td>0</td>\n",
              "      <td>0</td>\n",
              "    </tr>\n",
              "    <tr>\n",
              "      <th>2</th>\n",
              "      <td>0</td>\n",
              "      <td>0</td>\n",
              "      <td>0</td>\n",
              "      <td>0</td>\n",
              "      <td>0</td>\n",
              "      <td>0</td>\n",
              "      <td>0</td>\n",
              "      <td>0</td>\n",
              "      <td>0</td>\n",
              "      <td>0</td>\n",
              "      <td>0</td>\n",
              "      <td>0</td>\n",
              "      <td>0</td>\n",
              "      <td>0</td>\n",
              "      <td>0</td>\n",
              "      <td>0</td>\n",
              "      <td>0</td>\n",
              "      <td>0</td>\n",
              "      <td>0</td>\n",
              "      <td>0</td>\n",
              "      <td>0</td>\n",
              "      <td>0</td>\n",
              "      <td>0</td>\n",
              "      <td>0</td>\n",
              "      <td>0</td>\n",
              "      <td>0</td>\n",
              "      <td>0</td>\n",
              "      <td>0</td>\n",
              "      <td>0</td>\n",
              "      <td>0</td>\n",
              "      <td>0</td>\n",
              "      <td>0</td>\n",
              "      <td>0</td>\n",
              "      <td>0</td>\n",
              "      <td>0</td>\n",
              "      <td>0</td>\n",
              "      <td>0</td>\n",
              "      <td>0</td>\n",
              "      <td>0</td>\n",
              "      <td>0</td>\n",
              "      <td>...</td>\n",
              "      <td>0</td>\n",
              "      <td>0</td>\n",
              "      <td>0</td>\n",
              "      <td>0</td>\n",
              "      <td>0</td>\n",
              "      <td>0</td>\n",
              "      <td>0</td>\n",
              "      <td>0</td>\n",
              "      <td>0</td>\n",
              "      <td>0</td>\n",
              "      <td>0</td>\n",
              "      <td>0</td>\n",
              "      <td>0</td>\n",
              "      <td>0</td>\n",
              "      <td>0</td>\n",
              "      <td>0</td>\n",
              "      <td>0</td>\n",
              "      <td>0</td>\n",
              "      <td>0</td>\n",
              "      <td>0</td>\n",
              "      <td>0</td>\n",
              "      <td>0</td>\n",
              "      <td>0</td>\n",
              "      <td>0</td>\n",
              "      <td>0</td>\n",
              "      <td>0</td>\n",
              "      <td>0</td>\n",
              "      <td>0</td>\n",
              "      <td>0</td>\n",
              "      <td>0</td>\n",
              "      <td>0</td>\n",
              "      <td>0</td>\n",
              "      <td>0</td>\n",
              "      <td>0</td>\n",
              "      <td>0</td>\n",
              "      <td>0</td>\n",
              "      <td>0</td>\n",
              "      <td>0</td>\n",
              "      <td>0</td>\n",
              "      <td>0</td>\n",
              "    </tr>\n",
              "    <tr>\n",
              "      <th>3</th>\n",
              "      <td>0</td>\n",
              "      <td>0</td>\n",
              "      <td>0</td>\n",
              "      <td>0</td>\n",
              "      <td>0</td>\n",
              "      <td>0</td>\n",
              "      <td>0</td>\n",
              "      <td>0</td>\n",
              "      <td>0</td>\n",
              "      <td>0</td>\n",
              "      <td>0</td>\n",
              "      <td>0</td>\n",
              "      <td>0</td>\n",
              "      <td>0</td>\n",
              "      <td>0</td>\n",
              "      <td>0</td>\n",
              "      <td>0</td>\n",
              "      <td>0</td>\n",
              "      <td>0</td>\n",
              "      <td>0</td>\n",
              "      <td>0</td>\n",
              "      <td>0</td>\n",
              "      <td>0</td>\n",
              "      <td>0</td>\n",
              "      <td>0</td>\n",
              "      <td>0</td>\n",
              "      <td>0</td>\n",
              "      <td>0</td>\n",
              "      <td>0</td>\n",
              "      <td>0</td>\n",
              "      <td>0</td>\n",
              "      <td>0</td>\n",
              "      <td>0</td>\n",
              "      <td>0</td>\n",
              "      <td>0</td>\n",
              "      <td>0</td>\n",
              "      <td>0</td>\n",
              "      <td>0</td>\n",
              "      <td>0</td>\n",
              "      <td>0</td>\n",
              "      <td>...</td>\n",
              "      <td>0</td>\n",
              "      <td>0</td>\n",
              "      <td>0</td>\n",
              "      <td>0</td>\n",
              "      <td>0</td>\n",
              "      <td>0</td>\n",
              "      <td>0</td>\n",
              "      <td>0</td>\n",
              "      <td>0</td>\n",
              "      <td>0</td>\n",
              "      <td>0</td>\n",
              "      <td>0</td>\n",
              "      <td>0</td>\n",
              "      <td>0</td>\n",
              "      <td>0</td>\n",
              "      <td>0</td>\n",
              "      <td>0</td>\n",
              "      <td>0</td>\n",
              "      <td>0</td>\n",
              "      <td>0</td>\n",
              "      <td>0</td>\n",
              "      <td>0</td>\n",
              "      <td>0</td>\n",
              "      <td>0</td>\n",
              "      <td>0</td>\n",
              "      <td>0</td>\n",
              "      <td>0</td>\n",
              "      <td>0</td>\n",
              "      <td>0</td>\n",
              "      <td>0</td>\n",
              "      <td>0</td>\n",
              "      <td>0</td>\n",
              "      <td>0</td>\n",
              "      <td>0</td>\n",
              "      <td>0</td>\n",
              "      <td>0</td>\n",
              "      <td>0</td>\n",
              "      <td>0</td>\n",
              "      <td>0</td>\n",
              "      <td>0</td>\n",
              "    </tr>\n",
              "    <tr>\n",
              "      <th>4</th>\n",
              "      <td>0</td>\n",
              "      <td>0</td>\n",
              "      <td>0</td>\n",
              "      <td>0</td>\n",
              "      <td>0</td>\n",
              "      <td>0</td>\n",
              "      <td>0</td>\n",
              "      <td>0</td>\n",
              "      <td>0</td>\n",
              "      <td>0</td>\n",
              "      <td>0</td>\n",
              "      <td>0</td>\n",
              "      <td>0</td>\n",
              "      <td>0</td>\n",
              "      <td>0</td>\n",
              "      <td>0</td>\n",
              "      <td>0</td>\n",
              "      <td>0</td>\n",
              "      <td>0</td>\n",
              "      <td>0</td>\n",
              "      <td>0</td>\n",
              "      <td>0</td>\n",
              "      <td>0</td>\n",
              "      <td>0</td>\n",
              "      <td>0</td>\n",
              "      <td>0</td>\n",
              "      <td>0</td>\n",
              "      <td>0</td>\n",
              "      <td>0</td>\n",
              "      <td>0</td>\n",
              "      <td>0</td>\n",
              "      <td>0</td>\n",
              "      <td>0</td>\n",
              "      <td>0</td>\n",
              "      <td>0</td>\n",
              "      <td>0</td>\n",
              "      <td>0</td>\n",
              "      <td>0</td>\n",
              "      <td>0</td>\n",
              "      <td>0</td>\n",
              "      <td>...</td>\n",
              "      <td>0</td>\n",
              "      <td>0</td>\n",
              "      <td>0</td>\n",
              "      <td>0</td>\n",
              "      <td>0</td>\n",
              "      <td>0</td>\n",
              "      <td>0</td>\n",
              "      <td>0</td>\n",
              "      <td>0</td>\n",
              "      <td>0</td>\n",
              "      <td>0</td>\n",
              "      <td>0</td>\n",
              "      <td>0</td>\n",
              "      <td>0</td>\n",
              "      <td>0</td>\n",
              "      <td>0</td>\n",
              "      <td>0</td>\n",
              "      <td>0</td>\n",
              "      <td>0</td>\n",
              "      <td>0</td>\n",
              "      <td>0</td>\n",
              "      <td>0</td>\n",
              "      <td>0</td>\n",
              "      <td>0</td>\n",
              "      <td>0</td>\n",
              "      <td>0</td>\n",
              "      <td>0</td>\n",
              "      <td>0</td>\n",
              "      <td>0</td>\n",
              "      <td>0</td>\n",
              "      <td>0</td>\n",
              "      <td>0</td>\n",
              "      <td>0</td>\n",
              "      <td>0</td>\n",
              "      <td>0</td>\n",
              "      <td>0</td>\n",
              "      <td>0</td>\n",
              "      <td>0</td>\n",
              "      <td>0</td>\n",
              "      <td>0</td>\n",
              "    </tr>\n",
              "  </tbody>\n",
              "</table>\n",
              "<p>5 rows × 9414 columns</p>\n",
              "</div>"
            ],
            "text/plain": [
              "   aa  aaamsutra  aachar  aachari  ...  zucchini  zyada  ànd  éclat\n",
              "0   0          0       0        0  ...         0      0    0      0\n",
              "1   0          0       0        0  ...         0      0    0      0\n",
              "2   0          0       0        0  ...         0      0    0      0\n",
              "3   0          0       0        0  ...         0      0    0      0\n",
              "4   0          0       0        0  ...         0      0    0      0\n",
              "\n",
              "[5 rows x 9414 columns]"
            ]
          },
          "metadata": {
            "tags": []
          },
          "execution_count": 43
        }
      ]
    },
    {
      "cell_type": "code",
      "metadata": {
        "id": "ROeky441sL0H"
      },
      "source": [
        "from sklearn.ensemble import RandomForestClassifier\n",
        "rf=RandomForestClassifier()\n",
        "rf.fit(X_train,Y_train)\n",
        "pred=rf.predict(X_test)\n",
        "from sklearn.metrics import confusion_matrix,accuracy_score\n"
      ],
      "execution_count": 44,
      "outputs": []
    },
    {
      "cell_type": "code",
      "metadata": {
        "id": "KQB_hOe898nV"
      },
      "source": [
        "import pickle\n",
        "with open('model.pkl', 'wb') as f:\n",
        "  pickle.dump(rf, f)"
      ],
      "execution_count": 120,
      "outputs": []
    },
    {
      "cell_type": "code",
      "metadata": {
        "colab": {
          "base_uri": "https://localhost:8080/"
        },
        "id": "QTo2-KQhtXZ8",
        "outputId": "a9d18871-df2f-4ac3-a52a-6439acf220de"
      },
      "source": [
        "accuracy_score(Y_test,pred)"
      ],
      "execution_count": 45,
      "outputs": [
        {
          "output_type": "execute_result",
          "data": {
            "text/plain": [
              "0.7880816873116839"
            ]
          },
          "metadata": {
            "tags": []
          },
          "execution_count": 45
        }
      ]
    },
    {
      "cell_type": "code",
      "metadata": {
        "colab": {
          "base_uri": "https://localhost:8080/"
        },
        "id": "zQWxbxal1Nah",
        "outputId": "c7582fb9-2ec4-46a9-fd1a-39fc752f4005"
      },
      "source": [
        "cor=[]\n",
        "text=\"The food is very very good\"\n",
        "cor.append(' '.join([word.lower() for word in text.split()]))\n",
        "alpha_cor=[]\n",
        "for i in range(len(cor)):\n",
        "   alpha_cor.append(' '.join([word for word in cor[i].split() if word.isalpha()]))\n",
        "remove_stop=[]\n",
        "for i in range(len(alpha_cor)):\n",
        "   remove_stop.append(' '.join([word for word in alpha_cor[i].split() if word not in stopwords.words('english')]))\n",
        "Stemed_cor=[]\n",
        "from nltk.stem import PorterStemmer\n",
        "ps=PorterStemmer()\n",
        "for i in range(len(remove_stop)):\n",
        "  Stemed_cor.append(' '.join([ps.stem(word) for word in remove_stop[i].split()]))\n",
        "Stemed_cor[:5]"
      ],
      "execution_count": 113,
      "outputs": [
        {
          "output_type": "execute_result",
          "data": {
            "text/plain": [
              "['food good']"
            ]
          },
          "metadata": {
            "tags": []
          },
          "execution_count": 113
        }
      ]
    },
    {
      "cell_type": "code",
      "metadata": {
        "colab": {
          "base_uri": "https://localhost:8080/"
        },
        "id": "ehKCM6_c2PgT",
        "outputId": "326ad69a-ec1f-448a-9aef-d8a9e9f16f8d"
      },
      "source": [
        "import numpy as np\n",
        "a1=np.zeros((1,9414))\n",
        "a1.shape"
      ],
      "execution_count": 114,
      "outputs": [
        {
          "output_type": "execute_result",
          "data": {
            "text/plain": [
              "(1, 9414)"
            ]
          },
          "metadata": {
            "tags": []
          },
          "execution_count": 114
        }
      ]
    },
    {
      "cell_type": "code",
      "metadata": {
        "id": "GCW7TpSS7KMp"
      },
      "source": [
        "d1=pd.DataFrame(a1,columns=cv.get_feature_names())"
      ],
      "execution_count": 115,
      "outputs": []
    },
    {
      "cell_type": "code",
      "metadata": {
        "id": "iJxfi-EaKBOX"
      },
      "source": [
        "with open('get_feature_name.pkl', 'wb') as f:\n",
        "  pickle.dump(t, f)"
      ],
      "execution_count": 111,
      "outputs": []
    },
    {
      "cell_type": "code",
      "metadata": {
        "id": "Tpgp7GX9K2Au"
      },
      "source": [
        "with open('get_feature_name.pkl', 'rb') as f:\n",
        "\t\t\tl=pickle.load(f)\n",
        "l"
      ],
      "execution_count": null,
      "outputs": []
    },
    {
      "cell_type": "code",
      "metadata": {
        "colab": {
          "base_uri": "https://localhost:8080/",
          "height": 126
        },
        "id": "Y4S1a9Tc7P6b",
        "outputId": "cb4057c8-49d5-4016-a51e-67344915d494"
      },
      "source": [
        "d1.head()"
      ],
      "execution_count": 116,
      "outputs": [
        {
          "output_type": "execute_result",
          "data": {
            "text/html": [
              "<div>\n",
              "<style scoped>\n",
              "    .dataframe tbody tr th:only-of-type {\n",
              "        vertical-align: middle;\n",
              "    }\n",
              "\n",
              "    .dataframe tbody tr th {\n",
              "        vertical-align: top;\n",
              "    }\n",
              "\n",
              "    .dataframe thead th {\n",
              "        text-align: right;\n",
              "    }\n",
              "</style>\n",
              "<table border=\"1\" class=\"dataframe\">\n",
              "  <thead>\n",
              "    <tr style=\"text-align: right;\">\n",
              "      <th></th>\n",
              "      <th>aa</th>\n",
              "      <th>aaamsutra</th>\n",
              "      <th>aachar</th>\n",
              "      <th>aachari</th>\n",
              "      <th>aalishaan</th>\n",
              "      <th>aalo</th>\n",
              "      <th>aaloo</th>\n",
              "      <th>aalu</th>\n",
              "      <th>aam</th>\n",
              "      <th>aamra</th>\n",
              "      <th>aap</th>\n",
              "      <th>aar</th>\n",
              "      <th>aararot</th>\n",
              "      <th>aata</th>\n",
              "      <th>aati</th>\n",
              "      <th>aavula</th>\n",
              "      <th>aawww</th>\n",
              "      <th>aaya</th>\n",
              "      <th>ab</th>\n",
              "      <th>aback</th>\n",
              "      <th>abd</th>\n",
              "      <th>abdul</th>\n",
              "      <th>abdur</th>\n",
              "      <th>abhay</th>\n",
              "      <th>abhinav</th>\n",
              "      <th>abhisek</th>\n",
              "      <th>abhishek</th>\n",
              "      <th>abhiv</th>\n",
              "      <th>abhivir</th>\n",
              "      <th>abid</th>\n",
              "      <th>abil</th>\n",
              "      <th>abl</th>\n",
              "      <th>abli</th>\n",
              "      <th>abmianc</th>\n",
              "      <th>abot</th>\n",
              "      <th>abroad</th>\n",
              "      <th>abruptli</th>\n",
              "      <th>absenc</th>\n",
              "      <th>absent</th>\n",
              "      <th>absolut</th>\n",
              "      <th>...</th>\n",
              "      <th>yummmmmm</th>\n",
              "      <th>yummmmmmmmmmmmmmmmi</th>\n",
              "      <th>yummmmmyyyyyyyyyyyyyyyyyyyyyy</th>\n",
              "      <th>yummyy</th>\n",
              "      <th>yup</th>\n",
              "      <th>yyt</th>\n",
              "      <th>zaedan</th>\n",
              "      <th>zaffrani</th>\n",
              "      <th>zaffron</th>\n",
              "      <th>zafrani</th>\n",
              "      <th>zain</th>\n",
              "      <th>zakheedar</th>\n",
              "      <th>zakir</th>\n",
              "      <th>zara</th>\n",
              "      <th>zaroorat</th>\n",
              "      <th>zeera</th>\n",
              "      <th>zega</th>\n",
              "      <th>zen</th>\n",
              "      <th>zera</th>\n",
              "      <th>zero</th>\n",
              "      <th>zest</th>\n",
              "      <th>zesti</th>\n",
              "      <th>zillion</th>\n",
              "      <th>zing</th>\n",
              "      <th>zinger</th>\n",
              "      <th>zomato</th>\n",
              "      <th>zomatoand</th>\n",
              "      <th>zomatoo</th>\n",
              "      <th>zomatto</th>\n",
              "      <th>zombi</th>\n",
              "      <th>zomo</th>\n",
              "      <th>zomoto</th>\n",
              "      <th>zomtato</th>\n",
              "      <th>zomto</th>\n",
              "      <th>zone</th>\n",
              "      <th>zoomato</th>\n",
              "      <th>zucchini</th>\n",
              "      <th>zyada</th>\n",
              "      <th>ànd</th>\n",
              "      <th>éclat</th>\n",
              "    </tr>\n",
              "  </thead>\n",
              "  <tbody>\n",
              "    <tr>\n",
              "      <th>0</th>\n",
              "      <td>0.0</td>\n",
              "      <td>0.0</td>\n",
              "      <td>0.0</td>\n",
              "      <td>0.0</td>\n",
              "      <td>0.0</td>\n",
              "      <td>0.0</td>\n",
              "      <td>0.0</td>\n",
              "      <td>0.0</td>\n",
              "      <td>0.0</td>\n",
              "      <td>0.0</td>\n",
              "      <td>0.0</td>\n",
              "      <td>0.0</td>\n",
              "      <td>0.0</td>\n",
              "      <td>0.0</td>\n",
              "      <td>0.0</td>\n",
              "      <td>0.0</td>\n",
              "      <td>0.0</td>\n",
              "      <td>0.0</td>\n",
              "      <td>0.0</td>\n",
              "      <td>0.0</td>\n",
              "      <td>0.0</td>\n",
              "      <td>0.0</td>\n",
              "      <td>0.0</td>\n",
              "      <td>0.0</td>\n",
              "      <td>0.0</td>\n",
              "      <td>0.0</td>\n",
              "      <td>0.0</td>\n",
              "      <td>0.0</td>\n",
              "      <td>0.0</td>\n",
              "      <td>0.0</td>\n",
              "      <td>0.0</td>\n",
              "      <td>0.0</td>\n",
              "      <td>0.0</td>\n",
              "      <td>0.0</td>\n",
              "      <td>0.0</td>\n",
              "      <td>0.0</td>\n",
              "      <td>0.0</td>\n",
              "      <td>0.0</td>\n",
              "      <td>0.0</td>\n",
              "      <td>0.0</td>\n",
              "      <td>...</td>\n",
              "      <td>0.0</td>\n",
              "      <td>0.0</td>\n",
              "      <td>0.0</td>\n",
              "      <td>0.0</td>\n",
              "      <td>0.0</td>\n",
              "      <td>0.0</td>\n",
              "      <td>0.0</td>\n",
              "      <td>0.0</td>\n",
              "      <td>0.0</td>\n",
              "      <td>0.0</td>\n",
              "      <td>0.0</td>\n",
              "      <td>0.0</td>\n",
              "      <td>0.0</td>\n",
              "      <td>0.0</td>\n",
              "      <td>0.0</td>\n",
              "      <td>0.0</td>\n",
              "      <td>0.0</td>\n",
              "      <td>0.0</td>\n",
              "      <td>0.0</td>\n",
              "      <td>0.0</td>\n",
              "      <td>0.0</td>\n",
              "      <td>0.0</td>\n",
              "      <td>0.0</td>\n",
              "      <td>0.0</td>\n",
              "      <td>0.0</td>\n",
              "      <td>0.0</td>\n",
              "      <td>0.0</td>\n",
              "      <td>0.0</td>\n",
              "      <td>0.0</td>\n",
              "      <td>0.0</td>\n",
              "      <td>0.0</td>\n",
              "      <td>0.0</td>\n",
              "      <td>0.0</td>\n",
              "      <td>0.0</td>\n",
              "      <td>0.0</td>\n",
              "      <td>0.0</td>\n",
              "      <td>0.0</td>\n",
              "      <td>0.0</td>\n",
              "      <td>0.0</td>\n",
              "      <td>0.0</td>\n",
              "    </tr>\n",
              "  </tbody>\n",
              "</table>\n",
              "<p>1 rows × 9414 columns</p>\n",
              "</div>"
            ],
            "text/plain": [
              "    aa  aaamsutra  aachar  aachari  ...  zucchini  zyada  ànd  éclat\n",
              "0  0.0        0.0     0.0      0.0  ...       0.0    0.0  0.0    0.0\n",
              "\n",
              "[1 rows x 9414 columns]"
            ]
          },
          "metadata": {
            "tags": []
          },
          "execution_count": 116
        }
      ]
    },
    {
      "cell_type": "code",
      "metadata": {
        "id": "yFWknWjt6bQX"
      },
      "source": [
        "for i in Stemed_cor[0].split():\n",
        "  if i in t:\n",
        "    d1[i][0]=d1[i][0]+1.0\n",
        "    "
      ],
      "execution_count": 117,
      "outputs": []
    },
    {
      "cell_type": "code",
      "metadata": {
        "id": "nizuoCvV3_Z7"
      },
      "source": [
        "pred1=rf.predict(d1)"
      ],
      "execution_count": 118,
      "outputs": []
    },
    {
      "cell_type": "code",
      "metadata": {
        "colab": {
          "base_uri": "https://localhost:8080/"
        },
        "id": "PXKu7CfA4GXv",
        "outputId": "1a9a65a3-b01e-47ea-f64f-1fef70ef1dd2"
      },
      "source": [
        "if(pred1==1):\n",
        "  print(\"The Customer is very happy \")\n",
        "elif(pred1==0):\n",
        "  print(\"The Customer is Satisfied\")\n",
        "else:\n",
        "  print(\"The Customer does not like it\")"
      ],
      "execution_count": 119,
      "outputs": [
        {
          "output_type": "stream",
          "text": [
            "The Customer is very happy \n"
          ],
          "name": "stdout"
        }
      ]
    },
    {
      "cell_type": "code",
      "metadata": {
        "colab": {
          "base_uri": "https://localhost:8080/"
        },
        "id": "rJR1PIdK7ukT",
        "outputId": "822d29f7-5b65-40c5-e27a-bee8a63b0ce5"
      },
      "source": [
        "from flask import Flask,render_template\n",
        "# from ngrok import run_with_ngrok\n",
        "app = Flask(__name__)\n",
        "# run_with_ngrok(app)\n",
        "@app.route('/')\n",
        "def hello_world():\n",
        "    return 'Hello World'\n",
        "if __name__ == '__main__':\n",
        "  app.run()"
      ],
      "execution_count": 109,
      "outputs": [
        {
          "output_type": "stream",
          "text": [
            " * Serving Flask app \"__main__\" (lazy loading)\n",
            " * Environment: production\n",
            "\u001b[31m   WARNING: This is a development server. Do not use it in a production deployment.\u001b[0m\n",
            "\u001b[2m   Use a production WSGI server instead.\u001b[0m\n",
            " * Debug mode: off\n"
          ],
          "name": "stdout"
        },
        {
          "output_type": "stream",
          "text": [
            " * Running on http://127.0.0.1:5000/ (Press CTRL+C to quit)\n"
          ],
          "name": "stderr"
        }
      ]
    },
    {
      "cell_type": "code",
      "metadata": {
        "id": "8DAEDHFaBf2k"
      },
      "source": [
        ""
      ],
      "execution_count": null,
      "outputs": []
    }
  ]
}