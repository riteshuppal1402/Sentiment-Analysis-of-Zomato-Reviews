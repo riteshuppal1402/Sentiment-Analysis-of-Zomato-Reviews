{
  "nbformat": 4,
  "nbformat_minor": 0,
  "metadata": {
    "colab": {
      "name": "Sentiment Analysis_Final.ipynb",
      "provenance": [],
      "collapsed_sections": []
    },
    "kernelspec": {
      "name": "python3",
      "display_name": "Python 3"
    },
    "language_info": {
      "name": "python"
    },
    "accelerator": "GPU"
  },
  "cells": [
    {
      "cell_type": "code",
      "metadata": {
        "colab": {
          "base_uri": "https://localhost:8080/"
        },
        "id": "kSqLgfrTbLs6",
        "outputId": "e6941703-e6f0-459a-cc4a-4078ff7501ae"
      },
      "source": [
        "#Import Required Libraries\n",
        "import pandas as pd\n",
        "import numpy as np\n",
        "import nltk\n",
        "nltk.download('stopwords')\n",
        "from nltk.corpus import stopwords\n",
        "import seaborn as sns\n",
        "import matplotlib.pyplot as plt\n",
        "from tensorflow import keras\n",
        "from keras.models import Sequential\n",
        "from keras.layers import Dense\n",
        "from keras.layers import Dropout\n",
        "from keras import regularizers\n",
        "from sklearn.metrics import confusion_matrix,accuracy_score,f1_score"
      ],
      "execution_count": 80,
      "outputs": [
        {
          "output_type": "stream",
          "text": [
            "[nltk_data] Downloading package stopwords to /root/nltk_data...\n",
            "[nltk_data]   Package stopwords is already up-to-date!\n"
          ],
          "name": "stdout"
        }
      ]
    },
    {
      "cell_type": "code",
      "metadata": {
        "id": "F206Imupd2tA",
        "colab": {
          "base_uri": "https://localhost:8080/"
        },
        "outputId": "55bb8a83-f498-4718-819d-51d370d23786"
      },
      "source": [
        "# Loading Dataset \n",
        "df = pd.read_csv('/content/drive/MyDrive/Restaurant reviews.csv')\n",
        "df.drop(['Restaurant','Reviewer','Metadata','Time','Pictures'],inplace=True,axis=1)\n",
        "df.info()"
      ],
      "execution_count": null,
      "outputs": [
        {
          "output_type": "stream",
          "text": [
            "<class 'pandas.core.frame.DataFrame'>\n",
            "RangeIndex: 10000 entries, 0 to 9999\n",
            "Data columns (total 2 columns):\n",
            " #   Column  Non-Null Count  Dtype \n",
            "---  ------  --------------  ----- \n",
            " 0   Review  9955 non-null   object\n",
            " 1   Rating  9962 non-null   object\n",
            "dtypes: object(2)\n",
            "memory usage: 156.4+ KB\n"
          ],
          "name": "stdout"
        }
      ]
    },
    {
      "cell_type": "code",
      "metadata": {
        "id": "2EKwZsAStkY3"
      },
      "source": [
        "# Remove Null Values\n",
        "df.dropna(inplace=True)"
      ],
      "execution_count": null,
      "outputs": []
    },
    {
      "cell_type": "code",
      "metadata": {
        "colab": {
          "base_uri": "https://localhost:8080/"
        },
        "id": "Z0Wo1Dm1b971",
        "outputId": "90bae146-823e-43a6-819c-e6bf19d8876f"
      },
      "source": [
        "df.Rating.unique()"
      ],
      "execution_count": null,
      "outputs": [
        {
          "output_type": "execute_result",
          "data": {
            "text/plain": [
              "array(['5', '4', '1', '3', '2', '3.5', '4.5', '2.5', '1.5', 'Like'],\n",
              "      dtype=object)"
            ]
          },
          "metadata": {
            "tags": []
          },
          "execution_count": 4
        }
      ]
    },
    {
      "cell_type": "code",
      "metadata": {
        "colab": {
          "base_uri": "https://localhost:8080/",
          "height": 195
        },
        "id": "KlhNZdiNxcBN",
        "outputId": "bd4097fc-011a-4891-f9dc-872bcb2dab0a"
      },
      "source": [
        "# Removing Rating where Rating == 'Like'\n",
        "df=df[df.Rating!='Like']\n",
        "# Reset Index\n",
        "df.reset_index(inplace=True,drop=True)\n",
        "df.head()"
      ],
      "execution_count": null,
      "outputs": [
        {
          "output_type": "execute_result",
          "data": {
            "text/html": [
              "<div>\n",
              "<style scoped>\n",
              "    .dataframe tbody tr th:only-of-type {\n",
              "        vertical-align: middle;\n",
              "    }\n",
              "\n",
              "    .dataframe tbody tr th {\n",
              "        vertical-align: top;\n",
              "    }\n",
              "\n",
              "    .dataframe thead th {\n",
              "        text-align: right;\n",
              "    }\n",
              "</style>\n",
              "<table border=\"1\" class=\"dataframe\">\n",
              "  <thead>\n",
              "    <tr style=\"text-align: right;\">\n",
              "      <th></th>\n",
              "      <th>Review</th>\n",
              "      <th>Rating</th>\n",
              "    </tr>\n",
              "  </thead>\n",
              "  <tbody>\n",
              "    <tr>\n",
              "      <th>0</th>\n",
              "      <td>The ambience was good, food was quite good . h...</td>\n",
              "      <td>5</td>\n",
              "    </tr>\n",
              "    <tr>\n",
              "      <th>1</th>\n",
              "      <td>Ambience is too good for a pleasant evening. S...</td>\n",
              "      <td>5</td>\n",
              "    </tr>\n",
              "    <tr>\n",
              "      <th>2</th>\n",
              "      <td>A must try.. great food great ambience. Thnx f...</td>\n",
              "      <td>5</td>\n",
              "    </tr>\n",
              "    <tr>\n",
              "      <th>3</th>\n",
              "      <td>Soumen das and Arun was a great guy. Only beca...</td>\n",
              "      <td>5</td>\n",
              "    </tr>\n",
              "    <tr>\n",
              "      <th>4</th>\n",
              "      <td>Food is good.we ordered Kodi drumsticks and ba...</td>\n",
              "      <td>5</td>\n",
              "    </tr>\n",
              "  </tbody>\n",
              "</table>\n",
              "</div>"
            ],
            "text/plain": [
              "                                              Review Rating\n",
              "0  The ambience was good, food was quite good . h...      5\n",
              "1  Ambience is too good for a pleasant evening. S...      5\n",
              "2  A must try.. great food great ambience. Thnx f...      5\n",
              "3  Soumen das and Arun was a great guy. Only beca...      5\n",
              "4  Food is good.we ordered Kodi drumsticks and ba...      5"
            ]
          },
          "metadata": {
            "tags": []
          },
          "execution_count": 5
        }
      ]
    },
    {
      "cell_type": "code",
      "metadata": {
        "colab": {
          "base_uri": "https://localhost:8080/",
          "height": 195
        },
        "id": "jdphdZhWdjky",
        "outputId": "2088ead6-c37c-40dd-f2dc-2cec78583356"
      },
      "source": [
        "df.tail()"
      ],
      "execution_count": null,
      "outputs": [
        {
          "output_type": "execute_result",
          "data": {
            "text/html": [
              "<div>\n",
              "<style scoped>\n",
              "    .dataframe tbody tr th:only-of-type {\n",
              "        vertical-align: middle;\n",
              "    }\n",
              "\n",
              "    .dataframe tbody tr th {\n",
              "        vertical-align: top;\n",
              "    }\n",
              "\n",
              "    .dataframe thead th {\n",
              "        text-align: right;\n",
              "    }\n",
              "</style>\n",
              "<table border=\"1\" class=\"dataframe\">\n",
              "  <thead>\n",
              "    <tr style=\"text-align: right;\">\n",
              "      <th></th>\n",
              "      <th>Review</th>\n",
              "      <th>Rating</th>\n",
              "    </tr>\n",
              "  </thead>\n",
              "  <tbody>\n",
              "    <tr>\n",
              "      <th>9949</th>\n",
              "      <td>Madhumathi Mahajan Well to start with nice cou...</td>\n",
              "      <td>3</td>\n",
              "    </tr>\n",
              "    <tr>\n",
              "      <th>9950</th>\n",
              "      <td>This place has never disappointed us.. The foo...</td>\n",
              "      <td>4.5</td>\n",
              "    </tr>\n",
              "    <tr>\n",
              "      <th>9951</th>\n",
              "      <td>Bad rating is mainly because of \"Chicken Bone ...</td>\n",
              "      <td>1.5</td>\n",
              "    </tr>\n",
              "    <tr>\n",
              "      <th>9952</th>\n",
              "      <td>I personally love and prefer Chinese Food. Had...</td>\n",
              "      <td>4</td>\n",
              "    </tr>\n",
              "    <tr>\n",
              "      <th>9953</th>\n",
              "      <td>Checked in here to try some delicious chinese ...</td>\n",
              "      <td>3.5</td>\n",
              "    </tr>\n",
              "  </tbody>\n",
              "</table>\n",
              "</div>"
            ],
            "text/plain": [
              "                                                 Review Rating\n",
              "9949  Madhumathi Mahajan Well to start with nice cou...      3\n",
              "9950  This place has never disappointed us.. The foo...    4.5\n",
              "9951  Bad rating is mainly because of \"Chicken Bone ...    1.5\n",
              "9952  I personally love and prefer Chinese Food. Had...      4\n",
              "9953  Checked in here to try some delicious chinese ...    3.5"
            ]
          },
          "metadata": {
            "tags": []
          },
          "execution_count": 6
        }
      ]
    },
    {
      "cell_type": "code",
      "metadata": {
        "id": "9_hfbMW2y0wc"
      },
      "source": [
        "# This Function will Convert the input values to -1, 0 and 1 based on the input values\n",
        "def Convert_Rating(x):\n",
        "  x=float(x)\n",
        "  if(x<=2):\n",
        "    return -1\n",
        "  elif x==3:\n",
        "    return 0\n",
        "  else:\n",
        "    return 1\n",
        "df['Rating']=df.Rating.apply(lambda x: Convert_Rating(x))  # -1 if Rating <= 2 , 0 if Rating ==3 else 1 "
      ],
      "execution_count": null,
      "outputs": []
    },
    {
      "cell_type": "code",
      "metadata": {
        "colab": {
          "base_uri": "https://localhost:8080/",
          "height": 195
        },
        "id": "ziOxUMQoy45j",
        "outputId": "b46c0d5a-75b8-48d3-8c46-317403a6d6ec"
      },
      "source": [
        "df.tail()"
      ],
      "execution_count": null,
      "outputs": [
        {
          "output_type": "execute_result",
          "data": {
            "text/html": [
              "<div>\n",
              "<style scoped>\n",
              "    .dataframe tbody tr th:only-of-type {\n",
              "        vertical-align: middle;\n",
              "    }\n",
              "\n",
              "    .dataframe tbody tr th {\n",
              "        vertical-align: top;\n",
              "    }\n",
              "\n",
              "    .dataframe thead th {\n",
              "        text-align: right;\n",
              "    }\n",
              "</style>\n",
              "<table border=\"1\" class=\"dataframe\">\n",
              "  <thead>\n",
              "    <tr style=\"text-align: right;\">\n",
              "      <th></th>\n",
              "      <th>Review</th>\n",
              "      <th>Rating</th>\n",
              "    </tr>\n",
              "  </thead>\n",
              "  <tbody>\n",
              "    <tr>\n",
              "      <th>9949</th>\n",
              "      <td>Madhumathi Mahajan Well to start with nice cou...</td>\n",
              "      <td>0</td>\n",
              "    </tr>\n",
              "    <tr>\n",
              "      <th>9950</th>\n",
              "      <td>This place has never disappointed us.. The foo...</td>\n",
              "      <td>1</td>\n",
              "    </tr>\n",
              "    <tr>\n",
              "      <th>9951</th>\n",
              "      <td>Bad rating is mainly because of \"Chicken Bone ...</td>\n",
              "      <td>-1</td>\n",
              "    </tr>\n",
              "    <tr>\n",
              "      <th>9952</th>\n",
              "      <td>I personally love and prefer Chinese Food. Had...</td>\n",
              "      <td>1</td>\n",
              "    </tr>\n",
              "    <tr>\n",
              "      <th>9953</th>\n",
              "      <td>Checked in here to try some delicious chinese ...</td>\n",
              "      <td>1</td>\n",
              "    </tr>\n",
              "  </tbody>\n",
              "</table>\n",
              "</div>"
            ],
            "text/plain": [
              "                                                 Review  Rating\n",
              "9949  Madhumathi Mahajan Well to start with nice cou...       0\n",
              "9950  This place has never disappointed us.. The foo...       1\n",
              "9951  Bad rating is mainly because of \"Chicken Bone ...      -1\n",
              "9952  I personally love and prefer Chinese Food. Had...       1\n",
              "9953  Checked in here to try some delicious chinese ...       1"
            ]
          },
          "metadata": {
            "tags": []
          },
          "execution_count": 8
        }
      ]
    },
    {
      "cell_type": "code",
      "metadata": {
        "id": "3M6r0VWihJiR"
      },
      "source": [
        "# Dividing Dataset into dependent and Independent variable\n",
        "y = df['Rating']  \n",
        "x = list(df['Review'])"
      ],
      "execution_count": null,
      "outputs": []
    },
    {
      "cell_type": "code",
      "metadata": {
        "id": "s3Xan4Dah4B8",
        "colab": {
          "base_uri": "https://localhost:8080/"
        },
        "outputId": "fe14aa5f-164c-4b4f-83f4-671ae5fb08c3"
      },
      "source": [
        "# Normalization of Dataset (Coverting corpus into lower corpus and taking only alpha characters)\n",
        "corpus=[]\n",
        "alpha_corpus=[]\n",
        "for i in range(len(df)):\n",
        "   corpus.append(' '.join([word.lower() for word in str(x[i]).split()]))\n",
        "for i in range(len(df)):\n",
        "   alpha_corpus.append(' '.join([word for word in corpus[i].split() if word.isalpha()]))\n",
        "alpha_corpus[:5]"
      ],
      "execution_count": null,
      "outputs": [
        {
          "output_type": "execute_result",
          "data": {
            "text/plain": [
              "['the ambience was food was quite good had saturday lunch which was cost effective good place for a sate one can also chill with friends and or waiter soumen das was really courteous and',\n",
              " 'ambience is too good for a pleasant service is very food is over all a good soumen das kudos to the service',\n",
              " 'a must great food great thnx for the service by pradeep and my personal recommendation is penne alfredo also the music in the background is',\n",
              " 'soumen das and arun was a great only because of their behavior and and good food off i would like to visit this place',\n",
              " 'food is ordered kodi drumsticks and basket mutton all are thanks to he served we enjoyed ambience is also very']"
            ]
          },
          "metadata": {
            "tags": []
          },
          "execution_count": 10
        }
      ]
    },
    {
      "cell_type": "code",
      "metadata": {
        "colab": {
          "base_uri": "https://localhost:8080/"
        },
        "id": "puSRyJiaowL-",
        "outputId": "7b8d4066-5485-4896-ff35-e582bffa6eed"
      },
      "source": [
        "# Removing Stop Words\n",
        "removed_stop=[]\n",
        "for i in range(len(alpha_corpus)):\n",
        "   removed_stop.append(' '.join([word for word in alpha_corpus[i].split() if word not in stopwords.words('english')]))\n",
        "removed_stop[:5]"
      ],
      "execution_count": null,
      "outputs": [
        {
          "output_type": "execute_result",
          "data": {
            "text/plain": [
              "['ambience food quite good saturday lunch cost effective good place sate one also chill friends waiter soumen das really courteous',\n",
              " 'ambience good pleasant service food good soumen das kudos service',\n",
              " 'must great food great thnx service pradeep personal recommendation penne alfredo also music background',\n",
              " 'soumen das arun great behavior good food would like visit place',\n",
              " 'food ordered kodi drumsticks basket mutton thanks served enjoyed ambience also']"
            ]
          },
          "metadata": {
            "tags": []
          },
          "execution_count": 11
        }
      ]
    },
    {
      "cell_type": "code",
      "metadata": {
        "colab": {
          "base_uri": "https://localhost:8080/"
        },
        "id": "aOX8Y0e4pYvk",
        "outputId": "aba4f5bf-5b36-4a93-b1f2-81951b1dbdb0"
      },
      "source": [
        "# Stemming\n",
        "Stemed_corpus=[]\n",
        "from nltk.stem import PorterStemmer\n",
        "ps=PorterStemmer()\n",
        "for i in range(len(removed_stop)):\n",
        "  Stemed_corpus.append(' '.join([ps.stem(word) for word in removed_stop[i].split()]))\n",
        "Stemed_corpus[:5]"
      ],
      "execution_count": null,
      "outputs": [
        {
          "output_type": "execute_result",
          "data": {
            "text/plain": [
              "['ambienc food quit good saturday lunch cost effect good place sate one also chill friend waiter soumen da realli courteou',\n",
              " 'ambienc good pleasant servic food good soumen da kudo servic',\n",
              " 'must great food great thnx servic pradeep person recommend penn alfredo also music background',\n",
              " 'soumen da arun great behavior good food would like visit place',\n",
              " 'food order kodi drumstick basket mutton thank serv enjoy ambienc also']"
            ]
          },
          "metadata": {
            "tags": []
          },
          "execution_count": 12
        }
      ]
    },
    {
      "cell_type": "code",
      "metadata": {
        "id": "-pajtz2jp2lz"
      },
      "source": [
        "# Applying CountVectorizer\n",
        "from sklearn.feature_extraction.text import CountVectorizer\n",
        "cv=CountVectorizer(ngram_range=(1,1))\n",
        "X=cv.fit_transform(Stemed_corpus).toarray()"
      ],
      "execution_count": null,
      "outputs": []
    },
    {
      "cell_type": "code",
      "metadata": {
        "id": "ma52DqoKrYtJ"
      },
      "source": [
        "# Get Features Names\n",
        "t=cv.get_feature_names()"
      ],
      "execution_count": null,
      "outputs": []
    },
    {
      "cell_type": "code",
      "metadata": {
        "id": "SKfjiAyFn7iK"
      },
      "source": [
        "import pickle\n",
        "with open('get_feature_name.pkl', 'wb') as f:\n",
        "  pickle.dump(t, f)"
      ],
      "execution_count": null,
      "outputs": []
    },
    {
      "cell_type": "code",
      "metadata": {
        "colab": {
          "base_uri": "https://localhost:8080/"
        },
        "id": "Bktyptovrd1m",
        "outputId": "81103113-d813-4679-a837-432c99b4352e"
      },
      "source": [
        "X.shape"
      ],
      "execution_count": null,
      "outputs": [
        {
          "output_type": "execute_result",
          "data": {
            "text/plain": [
              "(9954, 9414)"
            ]
          },
          "metadata": {
            "tags": []
          },
          "execution_count": 16
        }
      ]
    },
    {
      "cell_type": "code",
      "metadata": {
        "colab": {
          "base_uri": "https://localhost:8080/"
        },
        "id": "WbPyVaxtr7Lm",
        "outputId": "ebe912a4-7b97-47e1-e4a6-51c4129a12f6"
      },
      "source": [
        "y.shape"
      ],
      "execution_count": null,
      "outputs": [
        {
          "output_type": "execute_result",
          "data": {
            "text/plain": [
              "(9954,)"
            ]
          },
          "metadata": {
            "tags": []
          },
          "execution_count": 17
        }
      ]
    },
    {
      "cell_type": "code",
      "metadata": {
        "colab": {
          "base_uri": "https://localhost:8080/",
          "height": 296
        },
        "id": "jRxwj9NcspAm",
        "outputId": "d71335f7-b4de-4be6-815c-ae3e69f4ab7c"
      },
      "source": [
        "sns.countplot(x=y)"
      ],
      "execution_count": null,
      "outputs": [
        {
          "output_type": "execute_result",
          "data": {
            "text/plain": [
              "<matplotlib.axes._subplots.AxesSubplot at 0x7fa31b615110>"
            ]
          },
          "metadata": {
            "tags": []
          },
          "execution_count": 18
        },
        {
          "output_type": "display_data",
          "data": {
            "image/png": "[encoded data removed]",
            "text/plain": [
              "<Figure size 432x288 with 1 Axes>"
            ]
          },
          "metadata": {
            "tags": [],
            "needs_background": "light"
          }
        }
      ]
    },
    {
      "cell_type": "code",
      "metadata": {
        "id": "mYt4xRU3xuPr"
      },
      "source": [
        "!pip install pycaret"
      ],
      "execution_count": null,
      "outputs": []
    },
    {
      "cell_type": "code",
      "metadata": {
        "id": "4qNs1FDixtJo"
      },
      "source": [
        "from pycaret.classification import *\n",
        "df1=pd.DataFrame(X,columns=cv.get_feature_names())\n",
        "df1['Review']=y\n",
        "clf1 = setup(data = df1, target = 'Review')\n",
        "# return best model\n",
        "best = compare_models()"
      ],
      "execution_count": null,
      "outputs": []
    },
    {
      "cell_type": "code",
      "metadata": {
        "id": "o72V6eFPr9KW"
      },
      "source": [
        "# Splitting the data into test and train dataset\n",
        "from sklearn.model_selection import train_test_split\n",
        "X_train,X_test,Y_train,Y_test=train_test_split(X,y,test_size=0.30)"
      ],
      "execution_count": null,
      "outputs": []
    },
    {
      "cell_type": "code",
      "metadata": {
        "colab": {
          "base_uri": "https://localhost:8080/",
          "height": 244
        },
        "id": "bsKU1iNvsCMl",
        "outputId": "4b072040-f1d2-4eaf-d1b0-b7248121e2c7"
      },
      "source": [
        "#Converting the  array into DataFrame\n",
        "count_df=pd.DataFrame(X_train,columns=cv.get_feature_names())\n",
        "count_df.head()"
      ],
      "execution_count": null,
      "outputs": [
        {
          "output_type": "execute_result",
          "data": {
            "text/html": [
              "<div>\n",
              "<style scoped>\n",
              "    .dataframe tbody tr th:only-of-type {\n",
              "        vertical-align: middle;\n",
              "    }\n",
              "\n",
              "    .dataframe tbody tr th {\n",
              "        vertical-align: top;\n",
              "    }\n",
              "\n",
              "    .dataframe thead th {\n",
              "        text-align: right;\n",
              "    }\n",
              "</style>\n",
              "<table border=\"1\" class=\"dataframe\">\n",
              "  <thead>\n",
              "    <tr style=\"text-align: right;\">\n",
              "      <th></th>\n",
              "      <th>aa</th>\n",
              "      <th>aaamsutra</th>\n",
              "      <th>aachar</th>\n",
              "      <th>aachari</th>\n",
              "      <th>aalishaan</th>\n",
              "      <th>aalo</th>\n",
              "      <th>aaloo</th>\n",
              "      <th>aalu</th>\n",
              "      <th>aam</th>\n",
              "      <th>aamra</th>\n",
              "      <th>aap</th>\n",
              "      <th>aar</th>\n",
              "      <th>aararot</th>\n",
              "      <th>aata</th>\n",
              "      <th>aati</th>\n",
              "      <th>aavula</th>\n",
              "      <th>aawww</th>\n",
              "      <th>aaya</th>\n",
              "      <th>ab</th>\n",
              "      <th>aback</th>\n",
              "      <th>abd</th>\n",
              "      <th>abdul</th>\n",
              "      <th>abdur</th>\n",
              "      <th>abhay</th>\n",
              "      <th>abhinav</th>\n",
              "      <th>abhisek</th>\n",
              "      <th>abhishek</th>\n",
              "      <th>abhiv</th>\n",
              "      <th>abhivir</th>\n",
              "      <th>abid</th>\n",
              "      <th>abil</th>\n",
              "      <th>abl</th>\n",
              "      <th>abli</th>\n",
              "      <th>abmianc</th>\n",
              "      <th>abot</th>\n",
              "      <th>abroad</th>\n",
              "      <th>abruptli</th>\n",
              "      <th>absenc</th>\n",
              "      <th>absent</th>\n",
              "      <th>absolut</th>\n",
              "      <th>...</th>\n",
              "      <th>yummmmmm</th>\n",
              "      <th>yummmmmmmmmmmmmmmmi</th>\n",
              "      <th>yummmmmyyyyyyyyyyyyyyyyyyyyyy</th>\n",
              "      <th>yummyy</th>\n",
              "      <th>yup</th>\n",
              "      <th>yyt</th>\n",
              "      <th>zaedan</th>\n",
              "      <th>zaffrani</th>\n",
              "      <th>zaffron</th>\n",
              "      <th>zafrani</th>\n",
              "      <th>zain</th>\n",
              "      <th>zakheedar</th>\n",
              "      <th>zakir</th>\n",
              "      <th>zara</th>\n",
              "      <th>zaroorat</th>\n",
              "      <th>zeera</th>\n",
              "      <th>zega</th>\n",
              "      <th>zen</th>\n",
              "      <th>zera</th>\n",
              "      <th>zero</th>\n",
              "      <th>zest</th>\n",
              "      <th>zesti</th>\n",
              "      <th>zillion</th>\n",
              "      <th>zing</th>\n",
              "      <th>zinger</th>\n",
              "      <th>zomato</th>\n",
              "      <th>zomatoand</th>\n",
              "      <th>zomatoo</th>\n",
              "      <th>zomatto</th>\n",
              "      <th>zombi</th>\n",
              "      <th>zomo</th>\n",
              "      <th>zomoto</th>\n",
              "      <th>zomtato</th>\n",
              "      <th>zomto</th>\n",
              "      <th>zone</th>\n",
              "      <th>zoomato</th>\n",
              "      <th>zucchini</th>\n",
              "      <th>zyada</th>\n",
              "      <th>ànd</th>\n",
              "      <th>éclat</th>\n",
              "    </tr>\n",
              "  </thead>\n",
              "  <tbody>\n",
              "    <tr>\n",
              "      <th>0</th>\n",
              "      <td>0</td>\n",
              "      <td>0</td>\n",
              "      <td>0</td>\n",
              "      <td>0</td>\n",
              "      <td>0</td>\n",
              "      <td>0</td>\n",
              "      <td>0</td>\n",
              "      <td>0</td>\n",
              "      <td>0</td>\n",
              "      <td>0</td>\n",
              "      <td>0</td>\n",
              "      <td>0</td>\n",
              "      <td>0</td>\n",
              "      <td>0</td>\n",
              "      <td>0</td>\n",
              "      <td>0</td>\n",
              "      <td>0</td>\n",
              "      <td>0</td>\n",
              "      <td>0</td>\n",
              "      <td>0</td>\n",
              "      <td>0</td>\n",
              "      <td>0</td>\n",
              "      <td>0</td>\n",
              "      <td>0</td>\n",
              "      <td>0</td>\n",
              "      <td>0</td>\n",
              "      <td>0</td>\n",
              "      <td>0</td>\n",
              "      <td>0</td>\n",
              "      <td>0</td>\n",
              "      <td>0</td>\n",
              "      <td>0</td>\n",
              "      <td>0</td>\n",
              "      <td>0</td>\n",
              "      <td>0</td>\n",
              "      <td>0</td>\n",
              "      <td>0</td>\n",
              "      <td>0</td>\n",
              "      <td>0</td>\n",
              "      <td>0</td>\n",
              "      <td>...</td>\n",
              "      <td>0</td>\n",
              "      <td>0</td>\n",
              "      <td>0</td>\n",
              "      <td>0</td>\n",
              "      <td>0</td>\n",
              "      <td>0</td>\n",
              "      <td>0</td>\n",
              "      <td>0</td>\n",
              "      <td>0</td>\n",
              "      <td>0</td>\n",
              "      <td>0</td>\n",
              "      <td>0</td>\n",
              "      <td>0</td>\n",
              "      <td>0</td>\n",
              "      <td>0</td>\n",
              "      <td>0</td>\n",
              "      <td>0</td>\n",
              "      <td>0</td>\n",
              "      <td>0</td>\n",
              "      <td>0</td>\n",
              "      <td>0</td>\n",
              "      <td>0</td>\n",
              "      <td>0</td>\n",
              "      <td>0</td>\n",
              "      <td>0</td>\n",
              "      <td>0</td>\n",
              "      <td>0</td>\n",
              "      <td>0</td>\n",
              "      <td>0</td>\n",
              "      <td>0</td>\n",
              "      <td>0</td>\n",
              "      <td>0</td>\n",
              "      <td>0</td>\n",
              "      <td>0</td>\n",
              "      <td>0</td>\n",
              "      <td>0</td>\n",
              "      <td>0</td>\n",
              "      <td>0</td>\n",
              "      <td>0</td>\n",
              "      <td>0</td>\n",
              "    </tr>\n",
              "    <tr>\n",
              "      <th>1</th>\n",
              "      <td>0</td>\n",
              "      <td>0</td>\n",
              "      <td>0</td>\n",
              "      <td>0</td>\n",
              "      <td>0</td>\n",
              "      <td>0</td>\n",
              "      <td>0</td>\n",
              "      <td>0</td>\n",
              "      <td>0</td>\n",
              "      <td>0</td>\n",
              "      <td>0</td>\n",
              "      <td>0</td>\n",
              "      <td>0</td>\n",
              "      <td>0</td>\n",
              "      <td>0</td>\n",
              "      <td>0</td>\n",
              "      <td>0</td>\n",
              "      <td>0</td>\n",
              "      <td>0</td>\n",
              "      <td>0</td>\n",
              "      <td>0</td>\n",
              "      <td>0</td>\n",
              "      <td>0</td>\n",
              "      <td>0</td>\n",
              "      <td>0</td>\n",
              "      <td>0</td>\n",
              "      <td>0</td>\n",
              "      <td>0</td>\n",
              "      <td>0</td>\n",
              "      <td>0</td>\n",
              "      <td>0</td>\n",
              "      <td>0</td>\n",
              "      <td>0</td>\n",
              "      <td>0</td>\n",
              "      <td>0</td>\n",
              "      <td>0</td>\n",
              "      <td>0</td>\n",
              "      <td>0</td>\n",
              "      <td>0</td>\n",
              "      <td>0</td>\n",
              "      <td>...</td>\n",
              "      <td>0</td>\n",
              "      <td>0</td>\n",
              "      <td>0</td>\n",
              "      <td>0</td>\n",
              "      <td>0</td>\n",
              "      <td>0</td>\n",
              "      <td>0</td>\n",
              "      <td>0</td>\n",
              "      <td>0</td>\n",
              "      <td>0</td>\n",
              "      <td>0</td>\n",
              "      <td>0</td>\n",
              "      <td>0</td>\n",
              "      <td>0</td>\n",
              "      <td>0</td>\n",
              "      <td>0</td>\n",
              "      <td>0</td>\n",
              "      <td>0</td>\n",
              "      <td>0</td>\n",
              "      <td>0</td>\n",
              "      <td>0</td>\n",
              "      <td>0</td>\n",
              "      <td>0</td>\n",
              "      <td>0</td>\n",
              "      <td>0</td>\n",
              "      <td>0</td>\n",
              "      <td>0</td>\n",
              "      <td>0</td>\n",
              "      <td>0</td>\n",
              "      <td>0</td>\n",
              "      <td>0</td>\n",
              "      <td>0</td>\n",
              "      <td>0</td>\n",
              "      <td>0</td>\n",
              "      <td>0</td>\n",
              "      <td>0</td>\n",
              "      <td>0</td>\n",
              "      <td>0</td>\n",
              "      <td>0</td>\n",
              "      <td>0</td>\n",
              "    </tr>\n",
              "    <tr>\n",
              "      <th>2</th>\n",
              "      <td>0</td>\n",
              "      <td>0</td>\n",
              "      <td>0</td>\n",
              "      <td>0</td>\n",
              "      <td>0</td>\n",
              "      <td>0</td>\n",
              "      <td>0</td>\n",
              "      <td>0</td>\n",
              "      <td>0</td>\n",
              "      <td>0</td>\n",
              "      <td>0</td>\n",
              "      <td>0</td>\n",
              "      <td>0</td>\n",
              "      <td>0</td>\n",
              "      <td>0</td>\n",
              "      <td>0</td>\n",
              "      <td>0</td>\n",
              "      <td>0</td>\n",
              "      <td>0</td>\n",
              "      <td>0</td>\n",
              "      <td>0</td>\n",
              "      <td>0</td>\n",
              "      <td>0</td>\n",
              "      <td>0</td>\n",
              "      <td>0</td>\n",
              "      <td>0</td>\n",
              "      <td>0</td>\n",
              "      <td>0</td>\n",
              "      <td>0</td>\n",
              "      <td>0</td>\n",
              "      <td>0</td>\n",
              "      <td>0</td>\n",
              "      <td>0</td>\n",
              "      <td>0</td>\n",
              "      <td>0</td>\n",
              "      <td>0</td>\n",
              "      <td>0</td>\n",
              "      <td>0</td>\n",
              "      <td>0</td>\n",
              "      <td>0</td>\n",
              "      <td>...</td>\n",
              "      <td>0</td>\n",
              "      <td>0</td>\n",
              "      <td>0</td>\n",
              "      <td>0</td>\n",
              "      <td>0</td>\n",
              "      <td>0</td>\n",
              "      <td>0</td>\n",
              "      <td>0</td>\n",
              "      <td>0</td>\n",
              "      <td>0</td>\n",
              "      <td>0</td>\n",
              "      <td>0</td>\n",
              "      <td>0</td>\n",
              "      <td>0</td>\n",
              "      <td>0</td>\n",
              "      <td>0</td>\n",
              "      <td>0</td>\n",
              "      <td>0</td>\n",
              "      <td>0</td>\n",
              "      <td>0</td>\n",
              "      <td>0</td>\n",
              "      <td>0</td>\n",
              "      <td>0</td>\n",
              "      <td>0</td>\n",
              "      <td>0</td>\n",
              "      <td>0</td>\n",
              "      <td>0</td>\n",
              "      <td>0</td>\n",
              "      <td>0</td>\n",
              "      <td>0</td>\n",
              "      <td>0</td>\n",
              "      <td>0</td>\n",
              "      <td>0</td>\n",
              "      <td>0</td>\n",
              "      <td>0</td>\n",
              "      <td>0</td>\n",
              "      <td>0</td>\n",
              "      <td>0</td>\n",
              "      <td>0</td>\n",
              "      <td>0</td>\n",
              "    </tr>\n",
              "    <tr>\n",
              "      <th>3</th>\n",
              "      <td>0</td>\n",
              "      <td>0</td>\n",
              "      <td>0</td>\n",
              "      <td>0</td>\n",
              "      <td>0</td>\n",
              "      <td>0</td>\n",
              "      <td>0</td>\n",
              "      <td>0</td>\n",
              "      <td>0</td>\n",
              "      <td>0</td>\n",
              "      <td>0</td>\n",
              "      <td>0</td>\n",
              "      <td>0</td>\n",
              "      <td>0</td>\n",
              "      <td>0</td>\n",
              "      <td>0</td>\n",
              "      <td>0</td>\n",
              "      <td>0</td>\n",
              "      <td>0</td>\n",
              "      <td>0</td>\n",
              "      <td>0</td>\n",
              "      <td>0</td>\n",
              "      <td>0</td>\n",
              "      <td>0</td>\n",
              "      <td>0</td>\n",
              "      <td>0</td>\n",
              "      <td>0</td>\n",
              "      <td>0</td>\n",
              "      <td>0</td>\n",
              "      <td>0</td>\n",
              "      <td>0</td>\n",
              "      <td>0</td>\n",
              "      <td>0</td>\n",
              "      <td>0</td>\n",
              "      <td>0</td>\n",
              "      <td>0</td>\n",
              "      <td>0</td>\n",
              "      <td>0</td>\n",
              "      <td>0</td>\n",
              "      <td>0</td>\n",
              "      <td>...</td>\n",
              "      <td>0</td>\n",
              "      <td>0</td>\n",
              "      <td>0</td>\n",
              "      <td>0</td>\n",
              "      <td>0</td>\n",
              "      <td>0</td>\n",
              "      <td>0</td>\n",
              "      <td>0</td>\n",
              "      <td>0</td>\n",
              "      <td>0</td>\n",
              "      <td>0</td>\n",
              "      <td>0</td>\n",
              "      <td>0</td>\n",
              "      <td>0</td>\n",
              "      <td>0</td>\n",
              "      <td>0</td>\n",
              "      <td>0</td>\n",
              "      <td>0</td>\n",
              "      <td>0</td>\n",
              "      <td>0</td>\n",
              "      <td>0</td>\n",
              "      <td>0</td>\n",
              "      <td>0</td>\n",
              "      <td>0</td>\n",
              "      <td>0</td>\n",
              "      <td>0</td>\n",
              "      <td>0</td>\n",
              "      <td>0</td>\n",
              "      <td>0</td>\n",
              "      <td>0</td>\n",
              "      <td>0</td>\n",
              "      <td>0</td>\n",
              "      <td>0</td>\n",
              "      <td>0</td>\n",
              "      <td>0</td>\n",
              "      <td>0</td>\n",
              "      <td>0</td>\n",
              "      <td>0</td>\n",
              "      <td>0</td>\n",
              "      <td>0</td>\n",
              "    </tr>\n",
              "    <tr>\n",
              "      <th>4</th>\n",
              "      <td>0</td>\n",
              "      <td>0</td>\n",
              "      <td>0</td>\n",
              "      <td>0</td>\n",
              "      <td>0</td>\n",
              "      <td>0</td>\n",
              "      <td>0</td>\n",
              "      <td>0</td>\n",
              "      <td>0</td>\n",
              "      <td>0</td>\n",
              "      <td>0</td>\n",
              "      <td>0</td>\n",
              "      <td>0</td>\n",
              "      <td>0</td>\n",
              "      <td>0</td>\n",
              "      <td>0</td>\n",
              "      <td>0</td>\n",
              "      <td>0</td>\n",
              "      <td>0</td>\n",
              "      <td>0</td>\n",
              "      <td>0</td>\n",
              "      <td>0</td>\n",
              "      <td>0</td>\n",
              "      <td>0</td>\n",
              "      <td>0</td>\n",
              "      <td>0</td>\n",
              "      <td>0</td>\n",
              "      <td>0</td>\n",
              "      <td>0</td>\n",
              "      <td>0</td>\n",
              "      <td>0</td>\n",
              "      <td>0</td>\n",
              "      <td>0</td>\n",
              "      <td>0</td>\n",
              "      <td>0</td>\n",
              "      <td>0</td>\n",
              "      <td>0</td>\n",
              "      <td>0</td>\n",
              "      <td>0</td>\n",
              "      <td>0</td>\n",
              "      <td>...</td>\n",
              "      <td>0</td>\n",
              "      <td>0</td>\n",
              "      <td>0</td>\n",
              "      <td>0</td>\n",
              "      <td>0</td>\n",
              "      <td>0</td>\n",
              "      <td>0</td>\n",
              "      <td>0</td>\n",
              "      <td>0</td>\n",
              "      <td>0</td>\n",
              "      <td>0</td>\n",
              "      <td>0</td>\n",
              "      <td>0</td>\n",
              "      <td>0</td>\n",
              "      <td>0</td>\n",
              "      <td>0</td>\n",
              "      <td>0</td>\n",
              "      <td>0</td>\n",
              "      <td>0</td>\n",
              "      <td>0</td>\n",
              "      <td>0</td>\n",
              "      <td>0</td>\n",
              "      <td>0</td>\n",
              "      <td>0</td>\n",
              "      <td>0</td>\n",
              "      <td>0</td>\n",
              "      <td>0</td>\n",
              "      <td>0</td>\n",
              "      <td>0</td>\n",
              "      <td>0</td>\n",
              "      <td>0</td>\n",
              "      <td>0</td>\n",
              "      <td>0</td>\n",
              "      <td>0</td>\n",
              "      <td>0</td>\n",
              "      <td>0</td>\n",
              "      <td>0</td>\n",
              "      <td>0</td>\n",
              "      <td>0</td>\n",
              "      <td>0</td>\n",
              "    </tr>\n",
              "  </tbody>\n",
              "</table>\n",
              "<p>5 rows × 9414 columns</p>\n",
              "</div>"
            ],
            "text/plain": [
              "   aa  aaamsutra  aachar  aachari  ...  zucchini  zyada  ànd  éclat\n",
              "0   0          0       0        0  ...         0      0    0      0\n",
              "1   0          0       0        0  ...         0      0    0      0\n",
              "2   0          0       0        0  ...         0      0    0      0\n",
              "3   0          0       0        0  ...         0      0    0      0\n",
              "4   0          0       0        0  ...         0      0    0      0\n",
              "\n",
              "[5 rows x 9414 columns]"
            ]
          },
          "metadata": {
            "tags": []
          },
          "execution_count": 20
        }
      ]
    },
    {
      "cell_type": "markdown",
      "metadata": {
        "id": "-QmaBAONKJkB"
      },
      "source": [
        "#USING ARTIFICIAL NEURAL NETWORKS"
      ]
    },
    {
      "cell_type": "code",
      "metadata": {
        "id": "c5X01RIgDft-"
      },
      "source": [
        "from tensorflow import keras\n",
        "train_yOHE = keras.utils.to_categorical(Y_train, num_classes = 3, dtype='int')\n",
        "test_yOHE=keras.utils.to_categorical(Y_test, num_classes = 3, dtype='int')\n",
        "# -1 as 2 , 1 as 1 and 0 as 0"
      ],
      "execution_count": 39,
      "outputs": []
    },
    {
      "cell_type": "code",
      "metadata": {
        "colab": {
          "base_uri": "https://localhost:8080/"
        },
        "id": "Oaz4mFic9RON",
        "outputId": "dc9af02c-0474-408c-ecee-39a5251d2aba"
      },
      "source": [
        "model = Sequential()\n",
        "model.add(Dense(220 , activation='relu', input_shape = (X.shape[0],X.shape[-1]))) # Input Layer\n",
        "model.add(Dropout(0.5)) # Dropout Layer\n",
        "model.add(Dense(160 , activation='relu'))\n",
        "model.add(Dropout(0.5)) # Dropout Layer\n",
        "model.add(Dense(80 , activation='relu'))\n",
        "model.add(Dropout(0.5)) # Dropout Layer\n",
        "model.add(Dense(40 , activation='relu'))\n",
        "model.add(Dense(20 , activation='relu'))\n",
        "model.add(Dense(3,activation='softmax'))\n",
        "model.compile(loss='categorical_crossentropy', optimizer='adam', metrics=['accuracy'])\n",
        "history=model.fit(X_train, train_yOHE,epochs=70, batch_size=200,validation_data=(X_test,test_yOHE))"
      ],
      "execution_count": 55,
      "outputs": [
        {
          "output_type": "stream",
          "text": [
            "Epoch 1/70\n",
            "WARNING:tensorflow:Model was constructed with shape (None, 9954, 9414) for input KerasTensor(type_spec=TensorSpec(shape=(None, 9954, 9414), dtype=tf.float32, name='dense_83_input'), name='dense_83_input', description=\"created by layer 'dense_83_input'\"), but it was called on an input with incompatible shape (None, 9414).\n",
            "WARNING:tensorflow:Model was constructed with shape (None, 9954, 9414) for input KerasTensor(type_spec=TensorSpec(shape=(None, 9954, 9414), dtype=tf.float32, name='dense_83_input'), name='dense_83_input', description=\"created by layer 'dense_83_input'\"), but it was called on an input with incompatible shape (None, 9414).\n",
            "31/35 [=========================>....] - ETA: 0s - loss: 1.0252 - accuracy: 0.5248WARNING:tensorflow:Model was constructed with shape (None, 9954, 9414) for input KerasTensor(type_spec=TensorSpec(shape=(None, 9954, 9414), dtype=tf.float32, name='dense_83_input'), name='dense_83_input', description=\"created by layer 'dense_83_input'\"), but it was called on an input with incompatible shape (None, 9414).\n",
            "35/35 [==============================] - 1s 18ms/step - loss: 1.0144 - accuracy: 0.5356 - val_loss: 0.7817 - val_accuracy: 0.6364\n",
            "Epoch 2/70\n",
            "35/35 [==============================] - 0s 14ms/step - loss: 0.7381 - accuracy: 0.6442 - val_loss: 0.5924 - val_accuracy: 0.7951\n",
            "Epoch 3/70\n",
            "35/35 [==============================] - 0s 14ms/step - loss: 0.5321 - accuracy: 0.8088 - val_loss: 0.4900 - val_accuracy: 0.8098\n",
            "Epoch 4/70\n",
            "35/35 [==============================] - 0s 14ms/step - loss: 0.3989 - accuracy: 0.8343 - val_loss: 0.4991 - val_accuracy: 0.8102\n",
            "Epoch 5/70\n",
            "35/35 [==============================] - 0s 14ms/step - loss: 0.3308 - accuracy: 0.8576 - val_loss: 0.5600 - val_accuracy: 0.8038\n",
            "Epoch 6/70\n",
            "35/35 [==============================] - 0s 14ms/step - loss: 0.2648 - accuracy: 0.8961 - val_loss: 0.6254 - val_accuracy: 0.7995\n",
            "Epoch 7/70\n",
            "35/35 [==============================] - 0s 14ms/step - loss: 0.2020 - accuracy: 0.9344 - val_loss: 0.7653 - val_accuracy: 0.8008\n",
            "Epoch 8/70\n",
            "35/35 [==============================] - 0s 14ms/step - loss: 0.1595 - accuracy: 0.9458 - val_loss: 0.8152 - val_accuracy: 0.7901\n",
            "Epoch 9/70\n",
            "35/35 [==============================] - 0s 14ms/step - loss: 0.1320 - accuracy: 0.9564 - val_loss: 0.8796 - val_accuracy: 0.7934\n",
            "Epoch 10/70\n",
            "35/35 [==============================] - 0s 14ms/step - loss: 0.1197 - accuracy: 0.9615 - val_loss: 0.9308 - val_accuracy: 0.7894\n",
            "Epoch 11/70\n",
            "35/35 [==============================] - 0s 14ms/step - loss: 0.1011 - accuracy: 0.9681 - val_loss: 0.9681 - val_accuracy: 0.7954\n",
            "Epoch 12/70\n",
            "35/35 [==============================] - 0s 14ms/step - loss: 0.0972 - accuracy: 0.9715 - val_loss: 0.9745 - val_accuracy: 0.7934\n",
            "Epoch 13/70\n",
            "35/35 [==============================] - 0s 14ms/step - loss: 0.0776 - accuracy: 0.9743 - val_loss: 1.0776 - val_accuracy: 0.7918\n",
            "Epoch 14/70\n",
            "35/35 [==============================] - 0s 14ms/step - loss: 0.0971 - accuracy: 0.9735 - val_loss: 1.0349 - val_accuracy: 0.7924\n",
            "Epoch 15/70\n",
            "35/35 [==============================] - 0s 14ms/step - loss: 0.0758 - accuracy: 0.9758 - val_loss: 1.1022 - val_accuracy: 0.7901\n",
            "Epoch 16/70\n",
            "35/35 [==============================] - 0s 14ms/step - loss: 0.0760 - accuracy: 0.9793 - val_loss: 1.1149 - val_accuracy: 0.7921\n",
            "Epoch 17/70\n",
            "35/35 [==============================] - 0s 14ms/step - loss: 0.0870 - accuracy: 0.9764 - val_loss: 1.0925 - val_accuracy: 0.7948\n",
            "Epoch 18/70\n",
            "35/35 [==============================] - 0s 14ms/step - loss: 0.0796 - accuracy: 0.9764 - val_loss: 1.1306 - val_accuracy: 0.7938\n",
            "Epoch 19/70\n",
            "35/35 [==============================] - 0s 13ms/step - loss: 0.0645 - accuracy: 0.9816 - val_loss: 1.1669 - val_accuracy: 0.7961\n",
            "Epoch 20/70\n",
            "35/35 [==============================] - 0s 14ms/step - loss: 0.0632 - accuracy: 0.9809 - val_loss: 1.1558 - val_accuracy: 0.7971\n",
            "Epoch 21/70\n",
            "35/35 [==============================] - 0s 14ms/step - loss: 0.0644 - accuracy: 0.9819 - val_loss: 1.1936 - val_accuracy: 0.7914\n",
            "Epoch 22/70\n",
            "35/35 [==============================] - 0s 14ms/step - loss: 0.0547 - accuracy: 0.9847 - val_loss: 1.1879 - val_accuracy: 0.7951\n",
            "Epoch 23/70\n",
            "35/35 [==============================] - 0s 14ms/step - loss: 0.0562 - accuracy: 0.9817 - val_loss: 1.1964 - val_accuracy: 0.7988\n",
            "Epoch 24/70\n",
            "35/35 [==============================] - 0s 14ms/step - loss: 0.0505 - accuracy: 0.9840 - val_loss: 1.2880 - val_accuracy: 0.7988\n",
            "Epoch 25/70\n",
            "35/35 [==============================] - 0s 14ms/step - loss: 0.0584 - accuracy: 0.9816 - val_loss: 1.2795 - val_accuracy: 0.7968\n",
            "Epoch 26/70\n",
            "35/35 [==============================] - 0s 14ms/step - loss: 0.0548 - accuracy: 0.9834 - val_loss: 1.2619 - val_accuracy: 0.7944\n",
            "Epoch 27/70\n",
            "35/35 [==============================] - 0s 14ms/step - loss: 0.0578 - accuracy: 0.9847 - val_loss: 1.2643 - val_accuracy: 0.7965\n",
            "Epoch 28/70\n",
            "35/35 [==============================] - 0s 14ms/step - loss: 0.0500 - accuracy: 0.9854 - val_loss: 1.3269 - val_accuracy: 0.7954\n",
            "Epoch 29/70\n",
            "35/35 [==============================] - 0s 14ms/step - loss: 0.0503 - accuracy: 0.9855 - val_loss: 1.3972 - val_accuracy: 0.7961\n",
            "Epoch 30/70\n",
            "35/35 [==============================] - 0s 14ms/step - loss: 0.0451 - accuracy: 0.9879 - val_loss: 1.4231 - val_accuracy: 0.7971\n",
            "Epoch 31/70\n",
            "35/35 [==============================] - 0s 14ms/step - loss: 0.0482 - accuracy: 0.9851 - val_loss: 1.3099 - val_accuracy: 0.7921\n",
            "Epoch 32/70\n",
            "35/35 [==============================] - 0s 14ms/step - loss: 0.0490 - accuracy: 0.9845 - val_loss: 1.3288 - val_accuracy: 0.7944\n",
            "Epoch 33/70\n",
            "35/35 [==============================] - 0s 14ms/step - loss: 0.0536 - accuracy: 0.9836 - val_loss: 1.3306 - val_accuracy: 0.7931\n",
            "Epoch 34/70\n",
            "35/35 [==============================] - 0s 14ms/step - loss: 0.0440 - accuracy: 0.9868 - val_loss: 1.3047 - val_accuracy: 0.7884\n",
            "Epoch 35/70\n",
            "35/35 [==============================] - 0s 14ms/step - loss: 0.0490 - accuracy: 0.9843 - val_loss: 1.3395 - val_accuracy: 0.7904\n",
            "Epoch 36/70\n",
            "35/35 [==============================] - 0s 14ms/step - loss: 0.0478 - accuracy: 0.9845 - val_loss: 1.4008 - val_accuracy: 0.7944\n",
            "Epoch 37/70\n",
            "35/35 [==============================] - 0s 14ms/step - loss: 0.0399 - accuracy: 0.9881 - val_loss: 1.3818 - val_accuracy: 0.7911\n",
            "Epoch 38/70\n",
            "35/35 [==============================] - 0s 14ms/step - loss: 0.0501 - accuracy: 0.9854 - val_loss: 1.3325 - val_accuracy: 0.7888\n",
            "Epoch 39/70\n",
            "35/35 [==============================] - 0s 14ms/step - loss: 0.0437 - accuracy: 0.9860 - val_loss: 1.3683 - val_accuracy: 0.7914\n",
            "Epoch 40/70\n",
            "35/35 [==============================] - 0s 14ms/step - loss: 0.0485 - accuracy: 0.9853 - val_loss: 1.3916 - val_accuracy: 0.7898\n",
            "Epoch 41/70\n",
            "35/35 [==============================] - 0s 14ms/step - loss: 0.0396 - accuracy: 0.9877 - val_loss: 1.4999 - val_accuracy: 0.7934\n",
            "Epoch 42/70\n",
            "35/35 [==============================] - 0s 14ms/step - loss: 0.0381 - accuracy: 0.9907 - val_loss: 1.3948 - val_accuracy: 0.7914\n",
            "Epoch 43/70\n",
            "35/35 [==============================] - 0s 14ms/step - loss: 0.0435 - accuracy: 0.9868 - val_loss: 1.4766 - val_accuracy: 0.7931\n",
            "Epoch 44/70\n",
            "35/35 [==============================] - 0s 14ms/step - loss: 0.0460 - accuracy: 0.9855 - val_loss: 1.4633 - val_accuracy: 0.7951\n",
            "Epoch 45/70\n",
            "35/35 [==============================] - 0s 14ms/step - loss: 0.0445 - accuracy: 0.9864 - val_loss: 1.4386 - val_accuracy: 0.7911\n",
            "Epoch 46/70\n",
            "35/35 [==============================] - 0s 14ms/step - loss: 0.0439 - accuracy: 0.9860 - val_loss: 1.4839 - val_accuracy: 0.7958\n",
            "Epoch 47/70\n",
            "35/35 [==============================] - 0s 14ms/step - loss: 0.0470 - accuracy: 0.9853 - val_loss: 1.4886 - val_accuracy: 0.7854\n",
            "Epoch 48/70\n",
            "35/35 [==============================] - 0s 14ms/step - loss: 0.0474 - accuracy: 0.9865 - val_loss: 1.4429 - val_accuracy: 0.7908\n",
            "Epoch 49/70\n",
            "35/35 [==============================] - 0s 14ms/step - loss: 0.0379 - accuracy: 0.9888 - val_loss: 1.4559 - val_accuracy: 0.7844\n",
            "Epoch 50/70\n",
            "35/35 [==============================] - 0s 14ms/step - loss: 0.0544 - accuracy: 0.9847 - val_loss: 1.3954 - val_accuracy: 0.7924\n",
            "Epoch 51/70\n",
            "35/35 [==============================] - 0s 14ms/step - loss: 0.0425 - accuracy: 0.9868 - val_loss: 1.4691 - val_accuracy: 0.7904\n",
            "Epoch 52/70\n",
            "35/35 [==============================] - 0s 14ms/step - loss: 0.0457 - accuracy: 0.9843 - val_loss: 1.4667 - val_accuracy: 0.7931\n",
            "Epoch 53/70\n",
            "35/35 [==============================] - 0s 14ms/step - loss: 0.0463 - accuracy: 0.9869 - val_loss: 1.4721 - val_accuracy: 0.7877\n",
            "Epoch 54/70\n",
            "35/35 [==============================] - 0s 14ms/step - loss: 0.0461 - accuracy: 0.9860 - val_loss: 1.4811 - val_accuracy: 0.7854\n",
            "Epoch 55/70\n",
            "35/35 [==============================] - 0s 14ms/step - loss: 0.0395 - accuracy: 0.9890 - val_loss: 1.4667 - val_accuracy: 0.7891\n",
            "Epoch 56/70\n",
            "35/35 [==============================] - 0s 14ms/step - loss: 0.0412 - accuracy: 0.9873 - val_loss: 1.5179 - val_accuracy: 0.7891\n",
            "Epoch 57/70\n",
            "35/35 [==============================] - 0s 14ms/step - loss: 0.0417 - accuracy: 0.9882 - val_loss: 1.5224 - val_accuracy: 0.7888\n",
            "Epoch 58/70\n",
            "35/35 [==============================] - 0s 14ms/step - loss: 0.0416 - accuracy: 0.9868 - val_loss: 1.6023 - val_accuracy: 0.7901\n",
            "Epoch 59/70\n",
            "35/35 [==============================] - 0s 14ms/step - loss: 0.0459 - accuracy: 0.9854 - val_loss: 1.4921 - val_accuracy: 0.7888\n",
            "Epoch 60/70\n",
            "35/35 [==============================] - 0s 14ms/step - loss: 0.0389 - accuracy: 0.9880 - val_loss: 1.6114 - val_accuracy: 0.7944\n",
            "Epoch 61/70\n",
            "35/35 [==============================] - 0s 14ms/step - loss: 0.0394 - accuracy: 0.9880 - val_loss: 1.6549 - val_accuracy: 0.7904\n",
            "Epoch 62/70\n",
            "35/35 [==============================] - 0s 14ms/step - loss: 0.0405 - accuracy: 0.9872 - val_loss: 1.6541 - val_accuracy: 0.7938\n",
            "Epoch 63/70\n",
            "35/35 [==============================] - 0s 14ms/step - loss: 0.0403 - accuracy: 0.9870 - val_loss: 1.6691 - val_accuracy: 0.7901\n",
            "Epoch 64/70\n",
            "35/35 [==============================] - 0s 13ms/step - loss: 0.0435 - accuracy: 0.9870 - val_loss: 1.5927 - val_accuracy: 0.7864\n",
            "Epoch 65/70\n",
            "35/35 [==============================] - 0s 14ms/step - loss: 0.0404 - accuracy: 0.9876 - val_loss: 1.6043 - val_accuracy: 0.7965\n",
            "Epoch 66/70\n",
            "35/35 [==============================] - 0s 14ms/step - loss: 0.0424 - accuracy: 0.9877 - val_loss: 1.6491 - val_accuracy: 0.7894\n",
            "Epoch 67/70\n",
            "35/35 [==============================] - 1s 15ms/step - loss: 0.0477 - accuracy: 0.9899 - val_loss: 1.5753 - val_accuracy: 0.7938\n",
            "Epoch 68/70\n",
            "35/35 [==============================] - 0s 14ms/step - loss: 0.0390 - accuracy: 0.9884 - val_loss: 1.4755 - val_accuracy: 0.7914\n",
            "Epoch 69/70\n",
            "35/35 [==============================] - 0s 14ms/step - loss: 0.0408 - accuracy: 0.9877 - val_loss: 1.5049 - val_accuracy: 0.7961\n",
            "Epoch 70/70\n",
            "35/35 [==============================] - 0s 14ms/step - loss: 0.0406 - accuracy: 0.9880 - val_loss: 1.4757 - val_accuracy: 0.7941\n"
          ],
          "name": "stdout"
        }
      ]
    },
    {
      "cell_type": "code",
      "metadata": {
        "colab": {
          "base_uri": "https://localhost:8080/",
          "height": 295
        },
        "id": "OrEoA5N8Ez_p",
        "outputId": "4d096af1-5dae-4cbf-ae3b-33381315ee10"
      },
      "source": [
        "plt.plot(history.history['accuracy'])\n",
        "plt.plot(history.history['val_accuracy'])\n",
        "plt.title('model accuracy')\n",
        "plt.ylabel('accuracy')\n",
        "plt.xlabel('epoch')\n",
        "plt.legend(['train', 'val'], loc='upper left')\n",
        "plt.show()"
      ],
      "execution_count": 58,
      "outputs": [
        {
          "output_type": "display_data",
          "data": {
            "image/png": "[encoded data removed]",
            "text/plain": [
              "<Figure size 432x288 with 1 Axes>"
            ]
          },
          "metadata": {
            "tags": [],
            "needs_background": "light"
          }
        }
      ]
    },
    {
      "cell_type": "code",
      "metadata": {
        "colab": {
          "base_uri": "https://localhost:8080/",
          "height": 295
        },
        "id": "AYwVDIXvGLTR",
        "outputId": "8d0b6cbf-1474-4f86-8beb-acdc6bf7cd4f"
      },
      "source": [
        "plt.plot(history.history['loss'])\n",
        "plt.plot(history.history['val_loss'])\n",
        "plt.title('model loss')\n",
        "plt.ylabel('loss')\n",
        "plt.xlabel('epoch')\n",
        "plt.legend(['train', 'val'], loc='upper left')\n",
        "plt.show()"
      ],
      "execution_count": 59,
      "outputs": [
        {
          "output_type": "display_data",
          "data": {
            "image/png": "[encoded data removed]",
            "text/plain": [
              "<Figure size 432x288 with 1 Axes>"
            ]
          },
          "metadata": {
            "tags": [],
            "needs_background": "light"
          }
        }
      ]
    },
    {
      "cell_type": "code",
      "metadata": {
        "colab": {
          "base_uri": "https://localhost:8080/"
        },
        "id": "mZjJeI1wKeje",
        "outputId": "1a81eac2-7e2f-40e0-cfb1-f8c8f4ea44e3"
      },
      "source": [
        "def Calculate_evaluation_matrices(Y_test,pred):\n",
        "  print(\"Accuracy\",accuracy_score(Y_test,pred))\n",
        "  print(\"F1 Score\", f1_score(Y_test,pred,average=None))\n",
        "  print(\"Macro F1 Score\", f1_score(Y_test,pred,average='macro'))\n",
        "  print(\"Micro F1 Score\", f1_score(Y_test,pred,average='micro'))\n",
        "  print(\"Weighted F1 Score\", f1_score(Y_test,pred,average='weighted'))\n",
        "list1=[]\n",
        "predictions=model.predict(X_test)\n",
        "for i in predictions:\n",
        "  if(np.argmax(i)==2):\n",
        "    list1.append(-1)\n",
        "  else:\n",
        "    list1.append(np.argmax(i))\n",
        "Calculate_evaluation_matrices(Y_test,list1)"
      ],
      "execution_count": 86,
      "outputs": [
        {
          "output_type": "stream",
          "text": [
            "Accuracy 0.7941078004686977\n",
            "F1 Score [0.76933514 0.30333333 0.87897436]\n",
            "Macro F1 Score 0.6505476115923878\n",
            "Micro F1 Score 0.7941078004686977\n",
            "Weighted F1 Score 0.7852887837228437\n"
          ],
          "name": "stdout"
        }
      ]
    },
    {
      "cell_type": "code",
      "metadata": {
        "id": "XcJjkE5oHVkH"
      },
      "source": [
        "def Prediction_Using_DL(text):\n",
        "  cor=[]\n",
        "  cor.append(' '.join([word.lower() for word in text.split()]))\n",
        "  alpha_cor=[]\n",
        "  for i in range(len(cor)):\n",
        "    alpha_cor.append(' '.join([word for word in cor[i].split() if word.isalpha()]))\n",
        "  remove_stop=[]\n",
        "  for i in range(len(alpha_cor)):\n",
        "    remove_stop.append(' '.join([word for word in alpha_cor[i].split() if word not in stopwords.words('english')]))\n",
        "  Stemed_cor=[]\n",
        "  from nltk.stem import PorterStemmer\n",
        "  ps=PorterStemmer()\n",
        "  for i in range(len(remove_stop)):\n",
        "    Stemed_cor.append(' '.join([ps.stem(word) for word in remove_stop[i].split()]))\n",
        "  a1=np.zeros((1,X.shape[1]))\n",
        "  d1=pd.DataFrame(a1,columns=cv.get_feature_names())\n",
        "  for i in Stemed_cor[0].split(): \n",
        "    if i in t:\n",
        "      d1[i][0]=d1[i][0]+1.0\n",
        "  pred1=np.argmax(model.predict(d1.values))\n",
        "  print(pred1)\n",
        "  if(pred1==1):\n",
        "    print(\"The Customer is very happy \")\n",
        "  elif(pred1==0):\n",
        "    print(\"The Customer is Satisfied\")\n",
        "  else:\n",
        "    print(\"The Customer does not like it\")"
      ],
      "execution_count": 74,
      "outputs": []
    },
    {
      "cell_type": "code",
      "metadata": {
        "colab": {
          "base_uri": "https://localhost:8080/"
        },
        "id": "D4f9KRjIHxgn",
        "outputId": "b7c5f568-3422-4096-c574-2a4030936a40"
      },
      "source": [
        "# Now taking the sample text to predict\n",
        "text=input(\"Enter Restaurant Review: \")\n",
        "Prediction_Using_DL(text)"
      ],
      "execution_count": 79,
      "outputs": [
        {
          "output_type": "stream",
          "text": [
            "Enter Restaurant Review: Khana bahut acha hai\n",
            "The Customer is very happy \n"
          ],
          "name": "stdout"
        }
      ]
    },
    {
      "cell_type": "markdown",
      "metadata": {
        "id": "A5Ua9GTAKByP"
      },
      "source": [
        "#USING MACHINE LEARNING MODEL"
      ]
    },
    {
      "cell_type": "code",
      "metadata": {
        "id": "ROeky441sL0H"
      },
      "source": [
        "# Applying Model\n",
        "from sklearn.ensemble import RandomForestClassifier\n",
        "rf=RandomForestClassifier()\n",
        "rf.fit(X_train,Y_train)\n",
        "pred2=rf.predict(X_test)"
      ],
      "execution_count": null,
      "outputs": []
    },
    {
      "cell_type": "code",
      "metadata": {
        "id": "KQB_hOe898nV"
      },
      "source": [
        "# Dumping model\n",
        "import pickle\n",
        "with open('model.pkl', 'wb') as f:\n",
        "  pickle.dump(rf, f)"
      ],
      "execution_count": null,
      "outputs": []
    },
    {
      "cell_type": "code",
      "metadata": {
        "colab": {
          "base_uri": "https://localhost:8080/"
        },
        "id": "QTo2-KQhtXZ8",
        "outputId": "9d67ac0d-24b3-431f-d528-cda3b2f88b7b"
      },
      "source": [
        "# Calculation Evaluation Metrices and Accuracy\n",
        "def Calculate_evaluation_matrices(Y_test,pred)\n",
        "  print(\"Accuracy\",accuracy_score(Y_test,pred))\n",
        "  print(\"F1 Score\", f1_score(Y_test,pred,average=None))\n",
        "  print(\"Macro F1 Score\", f1_score(Y_test,pred,average='macro'))\n",
        "  print(\"Micro F1 Score\", f1_score(Y_test,pred,average='micro'))\n",
        "  print(\"Weighted F1 Score\", f1_score(Y_test,pred,average='weighted'))"
      ],
      "execution_count": null,
      "outputs": [
        {
          "output_type": "stream",
          "text": [
            "Accuracy 0.7860729829260127\n",
            "F1 Score [0.74008811 0.05867971 0.87175827]\n",
            "Macro F1 Score 0.5568420267440725\n",
            "Micro F1 Score 0.7860729829260128\n",
            "Weighted F1 Score 0.7397004999126684\n"
          ],
          "name": "stdout"
        }
      ]
    },
    {
      "cell_type": "code",
      "metadata": {
        "id": "zQWxbxal1Nah"
      },
      "source": [
        "# Prediction\n",
        "def Prediction1(text):\n",
        "    cor=[]\n",
        "    cor.append(' '.join([word.lower() for word in text.split()]))\n",
        "    alpha_cor=[]\n",
        "    for i in range(len(cor)):\n",
        "      alpha_cor.append(' '.join([word for word in cor[i].split() if word.isalpha()]))\n",
        "    remove_stop=[]\n",
        "    for i in range(len(alpha_cor)):\n",
        "      remove_stop.append(' '.join([word for word in alpha_cor[i].split() if word not in stopwords.words('english')]))\n",
        "    Stemed_cor=[]\n",
        "    from nltk.stem import PorterStemmer\n",
        "    ps=PorterStemmer()\n",
        "    for i in range(len(remove_stop)):\n",
        "      Stemed_cor.append(' '.join([ps.stem(word) for word in remove_stop[i].split()]))\n",
        "    a1=np.zeros((1,X.shape[1]))\n",
        "    d1=pd.DataFrame(a1,columns=cv.get_feature_names())\n",
        "    for i in Stemed_cor[0].split(): \n",
        "      if i in t:\n",
        "        d1[i][0]=d1[i][0]+1.0\n",
        "    pred1=rf.predict(d1)\n",
        "    if(pred1==1):\n",
        "      print(\"The Customer is very happy \")\n",
        "    elif(pred1==0):\n",
        "      print(\"The Customer is Satisfied\")\n",
        "    else:\n",
        "      print(\"The Customer does not like it\")"
      ],
      "execution_count": 60,
      "outputs": []
    },
    {
      "cell_type": "code",
      "metadata": {
        "id": "yFWknWjt6bQX",
        "colab": {
          "base_uri": "https://localhost:8080/"
        },
        "outputId": "bea2b777-396f-46aa-bd9c-2bd3e02590a6"
      },
      "source": [
        "# Now taking the sample text to predict\n",
        "text=input(\"Enter Restaurant Review: \")\n",
        "Prediction(text)"
      ],
      "execution_count": null,
      "outputs": [
        {
          "output_type": "stream",
          "text": [
            "Enter Restaurant Review: The food is tasty\n",
            "The Customer is very happy \n"
          ],
          "name": "stdout"
        }
      ]
    },
    {
      "cell_type": "code",
      "metadata": {
        "id": "3AzD6PRnwGN-"
      },
      "source": [
        ""
      ],
      "execution_count": null,
      "outputs": []
    }
  ]
}